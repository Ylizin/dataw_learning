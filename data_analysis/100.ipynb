{
 "cells": [
  {
   "cell_type": "code",
   "execution_count": 1,
   "metadata": {},
   "outputs": [
    {
     "name": "stdout",
     "output_type": "stream",
     "text": [
      "1.15.4\n",
      "mkl_info:\n",
      "    libraries = ['mkl_rt']\n",
      "    library_dirs = ['C:/ProgramData/Anaconda3\\\\Library\\\\lib']\n",
      "    define_macros = [('SCIPY_MKL_H', None), ('HAVE_CBLAS', None)]\n",
      "    include_dirs = ['C:\\\\Program Files (x86)\\\\IntelSWTools\\\\compilers_and_libraries_2019.0.117\\\\windows\\\\mkl', 'C:\\\\Program Files (x86)\\\\IntelSWTools\\\\compilers_and_libraries_2019.0.117\\\\windows\\\\mkl\\\\include', 'C:\\\\Program Files (x86)\\\\IntelSWTools\\\\compilers_and_libraries_2019.0.117\\\\windows\\\\mkl\\\\lib', 'C:/ProgramData/Anaconda3\\\\Library\\\\include']\n",
      "blas_mkl_info:\n",
      "    libraries = ['mkl_rt']\n",
      "    library_dirs = ['C:/ProgramData/Anaconda3\\\\Library\\\\lib']\n",
      "    define_macros = [('SCIPY_MKL_H', None), ('HAVE_CBLAS', None)]\n",
      "    include_dirs = ['C:\\\\Program Files (x86)\\\\IntelSWTools\\\\compilers_and_libraries_2019.0.117\\\\windows\\\\mkl', 'C:\\\\Program Files (x86)\\\\IntelSWTools\\\\compilers_and_libraries_2019.0.117\\\\windows\\\\mkl\\\\include', 'C:\\\\Program Files (x86)\\\\IntelSWTools\\\\compilers_and_libraries_2019.0.117\\\\windows\\\\mkl\\\\lib', 'C:/ProgramData/Anaconda3\\\\Library\\\\include']\n",
      "blas_opt_info:\n",
      "    libraries = ['mkl_rt']\n",
      "    library_dirs = ['C:/ProgramData/Anaconda3\\\\Library\\\\lib']\n",
      "    define_macros = [('SCIPY_MKL_H', None), ('HAVE_CBLAS', None)]\n",
      "    include_dirs = ['C:\\\\Program Files (x86)\\\\IntelSWTools\\\\compilers_and_libraries_2019.0.117\\\\windows\\\\mkl', 'C:\\\\Program Files (x86)\\\\IntelSWTools\\\\compilers_and_libraries_2019.0.117\\\\windows\\\\mkl\\\\include', 'C:\\\\Program Files (x86)\\\\IntelSWTools\\\\compilers_and_libraries_2019.0.117\\\\windows\\\\mkl\\\\lib', 'C:/ProgramData/Anaconda3\\\\Library\\\\include']\n",
      "lapack_mkl_info:\n",
      "    libraries = ['mkl_rt']\n",
      "    library_dirs = ['C:/ProgramData/Anaconda3\\\\Library\\\\lib']\n",
      "    define_macros = [('SCIPY_MKL_H', None), ('HAVE_CBLAS', None)]\n",
      "    include_dirs = ['C:\\\\Program Files (x86)\\\\IntelSWTools\\\\compilers_and_libraries_2019.0.117\\\\windows\\\\mkl', 'C:\\\\Program Files (x86)\\\\IntelSWTools\\\\compilers_and_libraries_2019.0.117\\\\windows\\\\mkl\\\\include', 'C:\\\\Program Files (x86)\\\\IntelSWTools\\\\compilers_and_libraries_2019.0.117\\\\windows\\\\mkl\\\\lib', 'C:/ProgramData/Anaconda3\\\\Library\\\\include']\n",
      "lapack_opt_info:\n",
      "    libraries = ['mkl_rt']\n",
      "    library_dirs = ['C:/ProgramData/Anaconda3\\\\Library\\\\lib']\n",
      "    define_macros = [('SCIPY_MKL_H', None), ('HAVE_CBLAS', None)]\n",
      "    include_dirs = ['C:\\\\Program Files (x86)\\\\IntelSWTools\\\\compilers_and_libraries_2019.0.117\\\\windows\\\\mkl', 'C:\\\\Program Files (x86)\\\\IntelSWTools\\\\compilers_and_libraries_2019.0.117\\\\windows\\\\mkl\\\\include', 'C:\\\\Program Files (x86)\\\\IntelSWTools\\\\compilers_and_libraries_2019.0.117\\\\windows\\\\mkl\\\\lib', 'C:/ProgramData/Anaconda3\\\\Library\\\\include']\n"
     ]
    }
   ],
   "source": [
    "import numpy as np\n",
    "print(np.__version__)\n",
    "np.show_config()"
   ]
  },
  {
   "cell_type": "code",
   "execution_count": 4,
   "metadata": {},
   "outputs": [
    {
     "name": "stdout",
     "output_type": "stream",
     "text": [
      "800 bytes\n"
     ]
    }
   ],
   "source": [
    "Z = np.zeros((10,10))\n",
    "print(\"%d bytes\" % (Z.size * Z.itemsize))"
   ]
  },
  {
   "cell_type": "code",
   "execution_count": 6,
   "metadata": {},
   "outputs": [
    {
     "name": "stdout",
     "output_type": "stream",
     "text": [
      "add(x1, x2, /, out=None, *, where=True, casting='same_kind', order='K', dtype=None, subok=True[, signature, extobj])\n",
      "\n",
      "Add arguments element-wise.\n",
      "\n",
      "Parameters\n",
      "----------\n",
      "x1, x2 : array_like\n",
      "    The arrays to be added.  If ``x1.shape != x2.shape``, they must be\n",
      "    broadcastable to a common shape (which may be the shape of one or\n",
      "    the other).\n",
      "out : ndarray, None, or tuple of ndarray and None, optional\n",
      "    A location into which the result is stored. If provided, it must have\n",
      "    a shape that the inputs broadcast to. If not provided or `None`,\n",
      "    a freshly-allocated array is returned. A tuple (possible only as a\n",
      "    keyword argument) must have length equal to the number of outputs.\n",
      "where : array_like, optional\n",
      "    Values of True indicate to calculate the ufunc at that position, values\n",
      "    of False indicate to leave the value in the output alone.\n",
      "**kwargs\n",
      "    For other keyword-only arguments, see the\n",
      "    :ref:`ufunc docs <ufuncs.kwargs>`.\n",
      "\n",
      "Returns\n",
      "-------\n",
      "add : ndarray or scalar\n",
      "    The sum of `x1` and `x2`, element-wise.\n",
      "    This is a scalar if both `x1` and `x2` are scalars.\n",
      "\n",
      "Notes\n",
      "-----\n",
      "Equivalent to `x1` + `x2` in terms of array broadcasting.\n",
      "\n",
      "Examples\n",
      "--------\n",
      ">>> np.add(1.0, 4.0)\n",
      "5.0\n",
      ">>> x1 = np.arange(9.0).reshape((3, 3))\n",
      ">>> x2 = np.arange(3.0)\n",
      ">>> np.add(x1, x2)\n",
      "array([[  0.,   2.,   4.],\n",
      "       [  3.,   5.,   7.],\n",
      "       [  6.,   8.,  10.]])\n"
     ]
    }
   ],
   "source": [
    "np.info(np.add)"
   ]
  },
  {
   "cell_type": "code",
   "execution_count": 7,
   "metadata": {},
   "outputs": [
    {
     "name": "stdout",
     "output_type": "stream",
     "text": [
      "[0. 0. 0. 0. 1. 0. 0. 0. 0. 0.]\n"
     ]
    }
   ],
   "source": [
    "Z = np.zeros(10)\n",
    "Z[4] = 1\n",
    "print(Z)"
   ]
  },
  {
   "cell_type": "code",
   "execution_count": 8,
   "metadata": {},
   "outputs": [
    {
     "name": "stdout",
     "output_type": "stream",
     "text": [
      "[10 11 12 13 14 15 16 17 18 19 20 21 22 23 24 25 26 27 28 29 30 31 32 33\n",
      " 34 35 36 37 38 39 40 41 42 43 44 45 46 47 48 49]\n"
     ]
    }
   ],
   "source": [
    "Z = np.arange(10,50)\n",
    "print(Z)"
   ]
  },
  {
   "cell_type": "code",
   "execution_count": 9,
   "metadata": {},
   "outputs": [
    {
     "name": "stdout",
     "output_type": "stream",
     "text": [
      "[49 48 47 46 45 44 43 42 41 40 39 38 37 36 35 34 33 32 31 30 29 28 27 26\n",
      " 25 24 23 22 21 20 19 18 17 16 15 14 13 12 11 10  9  8  7  6  5  4  3  2\n",
      "  1  0]\n"
     ]
    }
   ],
   "source": [
    "Z = np.arange(50)\n",
    "Z = Z[::-1]\n",
    "print(Z)"
   ]
  },
  {
   "cell_type": "code",
   "execution_count": 10,
   "metadata": {},
   "outputs": [
    {
     "name": "stdout",
     "output_type": "stream",
     "text": [
      "[[0 1 2]\n",
      " [3 4 5]\n",
      " [6 7 8]]\n"
     ]
    }
   ],
   "source": [
    "Z = np.arange(9).reshape(3,3)\n",
    "print(Z)"
   ]
  },
  {
   "cell_type": "code",
   "execution_count": 11,
   "metadata": {},
   "outputs": [
    {
     "name": "stdout",
     "output_type": "stream",
     "text": [
      "(array([0, 1, 4], dtype=int64),)\n"
     ]
    }
   ],
   "source": [
    "nz = np.nonzero([1,2,0,0,4,0])\n",
    "print(nz)"
   ]
  },
  {
   "cell_type": "code",
   "execution_count": 12,
   "metadata": {},
   "outputs": [
    {
     "name": "stdout",
     "output_type": "stream",
     "text": [
      "[[1. 0. 0.]\n",
      " [0. 1. 0.]\n",
      " [0. 0. 1.]]\n"
     ]
    }
   ],
   "source": [
    "Z = np.eye(3)\n",
    "print(Z)"
   ]
  },
  {
   "cell_type": "code",
   "execution_count": 13,
   "metadata": {},
   "outputs": [
    {
     "name": "stdout",
     "output_type": "stream",
     "text": [
      "[[[0.68607389 0.16457379 0.31751397]\n",
      "  [0.85328592 0.35259019 0.75766513]\n",
      "  [0.44595385 0.56934107 0.77672754]]\n",
      "\n",
      " [[0.12360608 0.73629431 0.87871705]\n",
      "  [0.12541283 0.71503271 0.80916625]\n",
      "  [0.83542009 0.92717829 0.87898815]]\n",
      "\n",
      " [[0.74992988 0.27345737 0.88960877]\n",
      "  [0.50615046 0.74600562 0.554538  ]\n",
      "  [0.33273489 0.27043367 0.07033413]]]\n"
     ]
    }
   ],
   "source": [
    "Z = np.random.random((3,3,3))\n",
    "print(Z)"
   ]
  },
  {
   "cell_type": "code",
   "execution_count": 14,
   "metadata": {},
   "outputs": [
    {
     "name": "stdout",
     "output_type": "stream",
     "text": [
      "0.007542480577874766 0.9832539755754287\n"
     ]
    }
   ],
   "source": [
    "Z = np.random.random((10,10))\n",
    "Zmin, Zmax = Z.min(), Z.max()\n",
    "print(Zmin, Zmax)"
   ]
  },
  {
   "cell_type": "code",
   "execution_count": 15,
   "metadata": {},
   "outputs": [
    {
     "name": "stdout",
     "output_type": "stream",
     "text": [
      "0.571936402128717\n"
     ]
    }
   ],
   "source": [
    "Z = np.random.random(30)\n",
    "m = Z.mean()\n",
    "print(m)"
   ]
  },
  {
   "cell_type": "code",
   "execution_count": 16,
   "metadata": {},
   "outputs": [
    {
     "name": "stdout",
     "output_type": "stream",
     "text": [
      "[[1. 1. 1. 1. 1. 1. 1. 1. 1. 1.]\n",
      " [1. 0. 0. 0. 0. 0. 0. 0. 0. 1.]\n",
      " [1. 0. 0. 0. 0. 0. 0. 0. 0. 1.]\n",
      " [1. 0. 0. 0. 0. 0. 0. 0. 0. 1.]\n",
      " [1. 0. 0. 0. 0. 0. 0. 0. 0. 1.]\n",
      " [1. 0. 0. 0. 0. 0. 0. 0. 0. 1.]\n",
      " [1. 0. 0. 0. 0. 0. 0. 0. 0. 1.]\n",
      " [1. 0. 0. 0. 0. 0. 0. 0. 0. 1.]\n",
      " [1. 0. 0. 0. 0. 0. 0. 0. 0. 1.]\n",
      " [1. 1. 1. 1. 1. 1. 1. 1. 1. 1.]]\n"
     ]
    }
   ],
   "source": [
    "Z = np.ones((10,10))\n",
    "Z[1:-1,1:-1] = 0\n",
    "print(Z)"
   ]
  },
  {
   "cell_type": "code",
   "execution_count": 17,
   "metadata": {},
   "outputs": [
    {
     "name": "stdout",
     "output_type": "stream",
     "text": [
      "[[0. 0. 0. 0. 0. 0. 0.]\n",
      " [0. 1. 1. 1. 1. 1. 0.]\n",
      " [0. 1. 1. 1. 1. 1. 0.]\n",
      " [0. 1. 1. 1. 1. 1. 0.]\n",
      " [0. 1. 1. 1. 1. 1. 0.]\n",
      " [0. 1. 1. 1. 1. 1. 0.]\n",
      " [0. 0. 0. 0. 0. 0. 0.]]\n"
     ]
    }
   ],
   "source": [
    "Z = np.ones((5,5))\n",
    "Z = np.pad(Z, pad_width=1, mode='constant', constant_values=0)\n",
    "print(Z)"
   ]
  },
  {
   "cell_type": "code",
   "execution_count": 18,
   "metadata": {},
   "outputs": [
    {
     "name": "stdout",
     "output_type": "stream",
     "text": [
      "nan\n"
     ]
    }
   ],
   "source": [
    "print(0 * np.nan)"
   ]
  },
  {
   "cell_type": "code",
   "execution_count": 19,
   "metadata": {},
   "outputs": [
    {
     "name": "stdout",
     "output_type": "stream",
     "text": [
      "False\n"
     ]
    }
   ],
   "source": [
    "print(np.nan == np.nan)"
   ]
  },
  {
   "cell_type": "code",
   "execution_count": 20,
   "metadata": {},
   "outputs": [
    {
     "name": "stdout",
     "output_type": "stream",
     "text": [
      "False\n"
     ]
    }
   ],
   "source": [
    "print(np.inf > np.nan)"
   ]
  },
  {
   "cell_type": "code",
   "execution_count": 21,
   "metadata": {},
   "outputs": [
    {
     "name": "stdout",
     "output_type": "stream",
     "text": [
      "nan\n"
     ]
    }
   ],
   "source": [
    "print(np.nan - np.nan)"
   ]
  },
  {
   "cell_type": "code",
   "execution_count": 22,
   "metadata": {},
   "outputs": [
    {
     "name": "stdout",
     "output_type": "stream",
     "text": [
      "False\n"
     ]
    }
   ],
   "source": [
    "print(0.3 == 3 * 0.1)"
   ]
  },
  {
   "cell_type": "code",
   "execution_count": 23,
   "metadata": {},
   "outputs": [
    {
     "name": "stdout",
     "output_type": "stream",
     "text": [
      "[[0 0 0 0 0]\n",
      " [1 0 0 0 0]\n",
      " [0 2 0 0 0]\n",
      " [0 0 3 0 0]\n",
      " [0 0 0 4 0]]\n"
     ]
    }
   ],
   "source": [
    "Z = np.diag(1+np.arange(4),k=-1)\n",
    "print(Z)"
   ]
  },
  {
   "cell_type": "code",
   "execution_count": 24,
   "metadata": {},
   "outputs": [
    {
     "name": "stdout",
     "output_type": "stream",
     "text": [
      " diag(v, k=0)\n",
      "\n",
      "Extract a diagonal or construct a diagonal array.\n",
      "\n",
      "See the more detailed documentation for ``numpy.diagonal`` if you use this\n",
      "function to extract a diagonal and wish to write to the resulting array;\n",
      "whether it returns a copy or a view depends on what version of numpy you\n",
      "are using.\n",
      "\n",
      "Parameters\n",
      "----------\n",
      "v : array_like\n",
      "    If `v` is a 2-D array, return a copy of its `k`-th diagonal.\n",
      "    If `v` is a 1-D array, return a 2-D array with `v` on the `k`-th\n",
      "    diagonal.\n",
      "k : int, optional\n",
      "    Diagonal in question. The default is 0. Use `k>0` for diagonals\n",
      "    above the main diagonal, and `k<0` for diagonals below the main\n",
      "    diagonal.\n",
      "\n",
      "Returns\n",
      "-------\n",
      "out : ndarray\n",
      "    The extracted diagonal or constructed diagonal array.\n",
      "\n",
      "See Also\n",
      "--------\n",
      "diagonal : Return specified diagonals.\n",
      "diagflat : Create a 2-D array with the flattened input as a diagonal.\n",
      "trace : Sum along diagonals.\n",
      "triu : Upper triangle of an array.\n",
      "tril : Lower triangle of an array.\n",
      "\n",
      "Examples\n",
      "--------\n",
      ">>> x = np.arange(9).reshape((3,3))\n",
      ">>> x\n",
      "array([[0, 1, 2],\n",
      "       [3, 4, 5],\n",
      "       [6, 7, 8]])\n",
      "\n",
      ">>> np.diag(x)\n",
      "array([0, 4, 8])\n",
      ">>> np.diag(x, k=1)\n",
      "array([1, 5])\n",
      ">>> np.diag(x, k=-1)\n",
      "array([3, 7])\n",
      "\n",
      ">>> np.diag(np.diag(x))\n",
      "array([[0, 0, 0],\n",
      "       [0, 4, 0],\n",
      "       [0, 0, 8]])\n"
     ]
    }
   ],
   "source": [
    "np.info(np.diag)"
   ]
  },
  {
   "cell_type": "code",
   "execution_count": 25,
   "metadata": {},
   "outputs": [
    {
     "name": "stdout",
     "output_type": "stream",
     "text": [
      "[[0 1 0 1 0 1 0 1]\n",
      " [1 0 1 0 1 0 1 0]\n",
      " [0 1 0 1 0 1 0 1]\n",
      " [1 0 1 0 1 0 1 0]\n",
      " [0 1 0 1 0 1 0 1]\n",
      " [1 0 1 0 1 0 1 0]\n",
      " [0 1 0 1 0 1 0 1]\n",
      " [1 0 1 0 1 0 1 0]]\n"
     ]
    }
   ],
   "source": [
    "Z = np.zeros((8,8),dtype=int)\n",
    "Z[1::2,::2] = 1\n",
    "Z[::2,1::2] = 1\n",
    "print(Z)"
   ]
  },
  {
   "cell_type": "code",
   "execution_count": 26,
   "metadata": {},
   "outputs": [
    {
     "name": "stdout",
     "output_type": "stream",
     "text": [
      "(1, 5, 4)\n"
     ]
    }
   ],
   "source": [
    "print(np.unravel_index(100,(6,7,8)))"
   ]
  },
  {
   "cell_type": "code",
   "execution_count": 27,
   "metadata": {},
   "outputs": [
    {
     "name": "stdout",
     "output_type": "stream",
     "text": [
      "[[0 1 0 1 0 1 0 1]\n",
      " [1 0 1 0 1 0 1 0]\n",
      " [0 1 0 1 0 1 0 1]\n",
      " [1 0 1 0 1 0 1 0]\n",
      " [0 1 0 1 0 1 0 1]\n",
      " [1 0 1 0 1 0 1 0]\n",
      " [0 1 0 1 0 1 0 1]\n",
      " [1 0 1 0 1 0 1 0]]\n"
     ]
    }
   ],
   "source": [
    "Z = np.tile( np.array([[0,1],[1,0]]), (4,4))\n",
    "print(Z)"
   ]
  },
  {
   "cell_type": "code",
   "execution_count": 28,
   "metadata": {},
   "outputs": [
    {
     "name": "stdout",
     "output_type": "stream",
     "text": [
      "[[0.7699733  0.84531046 0.39676205 0.         0.1709315 ]\n",
      " [0.72812984 0.809759   0.07374756 0.31949728 0.26318176]\n",
      " [0.77059694 0.09067237 0.97215875 0.29777173 0.30160296]\n",
      " [1.         0.10401937 0.76836379 0.9154015  0.77351281]\n",
      " [0.413679   0.77897236 0.18407716 0.06791219 0.95300002]]\n"
     ]
    }
   ],
   "source": [
    "Z = np.random.random((5,5))\n",
    "Zmax, Zmin = Z.max(), Z.min()\n",
    "Z = (Z - Zmin)/(Zmax - Zmin)\n",
    "print(Z)"
   ]
  },
  {
   "cell_type": "code",
   "execution_count": 29,
   "metadata": {},
   "outputs": [
    {
     "data": {
      "text/plain": [
       "dtype([('r', 'u1'), ('g', 'u1'), ('b', 'u1'), ('a', 'u1')])"
      ]
     },
     "execution_count": 29,
     "metadata": {},
     "output_type": "execute_result"
    }
   ],
   "source": [
    "color = np.dtype([(\"r\", np.ubyte, 1),(\"g\", np.ubyte, 1),(\"b\", np.ubyte, 1),(\"a\", np.ubyte, 1)])\n",
    "color"
   ]
  },
  {
   "cell_type": "code",
   "execution_count": 30,
   "metadata": {},
   "outputs": [
    {
     "name": "stdout",
     "output_type": "stream",
     "text": [
      "[[3. 3.]\n",
      " [3. 3.]\n",
      " [3. 3.]\n",
      " [3. 3.]\n",
      " [3. 3.]]\n"
     ]
    }
   ],
   "source": [
    "Z = np.dot(np.ones((5,3)), np.ones((3,2)))\n",
    "print(Z)"
   ]
  },
  {
   "cell_type": "code",
   "execution_count": 31,
   "metadata": {},
   "outputs": [
    {
     "name": "stdout",
     "output_type": "stream",
     "text": [
      "[ 0  1  2  3 -4 -5 -6 -7 -8  9 10]\n"
     ]
    }
   ],
   "source": [
    "Z = np.arange(11)\n",
    "Z[(3 < Z) & (Z <= 8)] *= -1\n",
    "print(Z)"
   ]
  },
  {
   "cell_type": "code",
   "execution_count": 32,
   "metadata": {},
   "outputs": [
    {
     "name": "stdout",
     "output_type": "stream",
     "text": [
      "9\n"
     ]
    }
   ],
   "source": [
    "print(sum(range(5),-1))"
   ]
  },
  {
   "cell_type": "code",
   "execution_count": 33,
   "metadata": {},
   "outputs": [
    {
     "name": "stdout",
     "output_type": "stream",
     "text": [
      "10\n"
     ]
    }
   ],
   "source": [
    "from numpy import *\n",
    "print(sum(range(5),-1))"
   ]
  },
  {
   "cell_type": "code",
   "execution_count": 34,
   "metadata": {},
   "outputs": [
    {
     "data": {
      "text/plain": [
       "array([  1,   1,   4,  27, 256], dtype=int32)"
      ]
     },
     "execution_count": 34,
     "metadata": {},
     "output_type": "execute_result"
    }
   ],
   "source": [
    "Z = np.arange(5)\n",
    "Z ** Z "
   ]
  },
  {
   "cell_type": "code",
   "execution_count": 35,
   "metadata": {},
   "outputs": [
    {
     "data": {
      "text/plain": [
       "array([0, 1, 2, 4, 8], dtype=int32)"
      ]
     },
     "execution_count": 35,
     "metadata": {},
     "output_type": "execute_result"
    }
   ],
   "source": [
    "Z = np.arange(5)\n",
    "2 << Z >> 2"
   ]
  },
  {
   "cell_type": "code",
   "execution_count": 37,
   "metadata": {},
   "outputs": [
    {
     "data": {
      "text/plain": [
       "array([False, False, False, False, False])"
      ]
     },
     "execution_count": 37,
     "metadata": {},
     "output_type": "execute_result"
    }
   ],
   "source": [
    "Z = np.arange(5)\n",
    "Z <- Z"
   ]
  },
  {
   "cell_type": "code",
   "execution_count": 38,
   "metadata": {},
   "outputs": [
    {
     "data": {
      "text/plain": [
       "array([0.+0.j, 0.+1.j, 0.+2.j, 0.+3.j, 0.+4.j])"
      ]
     },
     "execution_count": 38,
     "metadata": {},
     "output_type": "execute_result"
    }
   ],
   "source": [
    "Z = np.arange(5)\n",
    "1j*Z"
   ]
  },
  {
   "cell_type": "code",
   "execution_count": 39,
   "metadata": {},
   "outputs": [
    {
     "data": {
      "text/plain": [
       "array([0., 1., 2., 3., 4.])"
      ]
     },
     "execution_count": 39,
     "metadata": {},
     "output_type": "execute_result"
    }
   ],
   "source": [
    "Z = np.arange(5)\n",
    "Z/1/1"
   ]
  },
  {
   "cell_type": "code",
   "execution_count": 40,
   "metadata": {},
   "outputs": [
    {
     "ename": "ValueError",
     "evalue": "The truth value of an array with more than one element is ambiguous. Use a.any() or a.all()",
     "output_type": "error",
     "traceback": [
      "\u001b[1;31m---------------------------------------------------------------------------\u001b[0m",
      "\u001b[1;31mValueError\u001b[0m                                Traceback (most recent call last)",
      "\u001b[1;32m<ipython-input-40-287e9cf34c9f>\u001b[0m in \u001b[0;36m<module>\u001b[1;34m\u001b[0m\n\u001b[0;32m      1\u001b[0m \u001b[0mZ\u001b[0m \u001b[1;33m=\u001b[0m \u001b[0mnp\u001b[0m\u001b[1;33m.\u001b[0m\u001b[0marange\u001b[0m\u001b[1;33m(\u001b[0m\u001b[1;36m5\u001b[0m\u001b[1;33m)\u001b[0m\u001b[1;33m\u001b[0m\u001b[1;33m\u001b[0m\u001b[0m\n\u001b[1;32m----> 2\u001b[1;33m \u001b[0mZ\u001b[0m\u001b[1;33m<\u001b[0m\u001b[0mZ\u001b[0m\u001b[1;33m>\u001b[0m\u001b[0mZ\u001b[0m\u001b[1;33m\u001b[0m\u001b[1;33m\u001b[0m\u001b[0m\n\u001b[0m",
      "\u001b[1;31mValueError\u001b[0m: The truth value of an array with more than one element is ambiguous. Use a.any() or a.all()"
     ]
    }
   ],
   "source": [
    "Z = np.arange(5)\n",
    "Z<Z>Z"
   ]
  },
  {
   "cell_type": "code",
   "execution_count": 41,
   "metadata": {},
   "outputs": [
    {
     "name": "stdout",
     "output_type": "stream",
     "text": [
      "nan\n"
     ]
    },
    {
     "name": "stderr",
     "output_type": "stream",
     "text": [
      "C:\\ProgramData\\Anaconda3\\lib\\site-packages\\ipykernel_launcher.py:1: RuntimeWarning: invalid value encountered in true_divide\n",
      "  \"\"\"Entry point for launching an IPython kernel.\n"
     ]
    }
   ],
   "source": [
    "print(np.array(0) / np.array(0))"
   ]
  },
  {
   "cell_type": "code",
   "execution_count": 42,
   "metadata": {},
   "outputs": [
    {
     "name": "stdout",
     "output_type": "stream",
     "text": [
      "0\n"
     ]
    },
    {
     "name": "stderr",
     "output_type": "stream",
     "text": [
      "C:\\ProgramData\\Anaconda3\\lib\\site-packages\\ipykernel_launcher.py:1: RuntimeWarning: divide by zero encountered in floor_divide\n",
      "  \"\"\"Entry point for launching an IPython kernel.\n"
     ]
    }
   ],
   "source": [
    "print(np.array(0) // np.array(0))"
   ]
  },
  {
   "cell_type": "code",
   "execution_count": 43,
   "metadata": {},
   "outputs": [
    {
     "name": "stdout",
     "output_type": "stream",
     "text": [
      "[-2.14748365e+09]\n"
     ]
    }
   ],
   "source": [
    "print(np.array([np.nan]).astype(int).astype(float))"
   ]
  },
  {
   "cell_type": "code",
   "execution_count": 44,
   "metadata": {},
   "outputs": [
    {
     "name": "stdout",
     "output_type": "stream",
     "text": [
      "[  7.   6.   2.   3.  -4.   5.  -1. -10.   3.  -2.]\n"
     ]
    }
   ],
   "source": [
    "Z = np.random.uniform(-10,+10,10)\n",
    "print (np.copysign(np.ceil(np.abs(Z)), Z))"
   ]
  },
  {
   "cell_type": "code",
   "execution_count": 45,
   "metadata": {},
   "outputs": [
    {
     "name": "stdout",
     "output_type": "stream",
     "text": [
      "[4 5 9]\n"
     ]
    }
   ],
   "source": [
    "Z1 = np.random.randint(0,10,10)\n",
    "Z2 = np.random.randint(0,10,10)\n",
    "print(np.intersect1d(Z1,Z2))"
   ]
  },
  {
   "cell_type": "code",
   "execution_count": 46,
   "metadata": {},
   "outputs": [],
   "source": [
    "defaults = np.seterr(all=\"ignore\")\n",
    "Z = np.ones(1) / 0"
   ]
  },
  {
   "cell_type": "code",
   "execution_count": 47,
   "metadata": {},
   "outputs": [
    {
     "name": "stderr",
     "output_type": "stream",
     "text": [
      "C:\\ProgramData\\Anaconda3\\lib\\site-packages\\ipykernel_launcher.py:2: RuntimeWarning: divide by zero encountered in true_divide\n",
      "  \n"
     ]
    }
   ],
   "source": [
    "_ = np.seterr(**defaults)\n",
    "Z = np.ones(1) / 0"
   ]
  },
  {
   "cell_type": "code",
   "execution_count": 48,
   "metadata": {},
   "outputs": [],
   "source": [
    "with np.errstate(divide='ignore'):\n",
    "    Z = np.ones(1) / 0"
   ]
  },
  {
   "cell_type": "code",
   "execution_count": 49,
   "metadata": {},
   "outputs": [
    {
     "name": "stderr",
     "output_type": "stream",
     "text": [
      "C:\\ProgramData\\Anaconda3\\lib\\site-packages\\ipykernel_launcher.py:1: RuntimeWarning: invalid value encountered in sqrt\n",
      "  \"\"\"Entry point for launching an IPython kernel.\n"
     ]
    },
    {
     "data": {
      "text/plain": [
       "False"
      ]
     },
     "execution_count": 49,
     "metadata": {},
     "output_type": "execute_result"
    }
   ],
   "source": [
    "np.sqrt(-1) == np.emath.sqrt(-1)"
   ]
  },
  {
   "cell_type": "code",
   "execution_count": 50,
   "metadata": {},
   "outputs": [
    {
     "name": "stdout",
     "output_type": "stream",
     "text": [
      "Yesterday is 2019-06-22\n",
      "Today is 2019-06-23\n",
      "Tomorrow is 2019-06-24\n"
     ]
    }
   ],
   "source": [
    "yesterday = np.datetime64('today', 'D') - np.timedelta64(1, 'D')\n",
    "today     = np.datetime64('today', 'D')\n",
    "tomorrow  = np.datetime64('today', 'D') + np.timedelta64(1, 'D')\n",
    "print (\"Yesterday is \" + str(yesterday))\n",
    "print (\"Today is \" + str(today))\n",
    "print (\"Tomorrow is \"+ str(tomorrow))"
   ]
  },
  {
   "cell_type": "code",
   "execution_count": 51,
   "metadata": {},
   "outputs": [
    {
     "name": "stdout",
     "output_type": "stream",
     "text": [
      "['2016-07-01' '2016-07-02' '2016-07-03' '2016-07-04' '2016-07-05'\n",
      " '2016-07-06' '2016-07-07' '2016-07-08' '2016-07-09' '2016-07-10'\n",
      " '2016-07-11' '2016-07-12' '2016-07-13' '2016-07-14' '2016-07-15'\n",
      " '2016-07-16' '2016-07-17' '2016-07-18' '2016-07-19' '2016-07-20'\n",
      " '2016-07-21' '2016-07-22' '2016-07-23' '2016-07-24' '2016-07-25'\n",
      " '2016-07-26' '2016-07-27' '2016-07-28' '2016-07-29' '2016-07-30'\n",
      " '2016-07-31']\n"
     ]
    }
   ],
   "source": [
    "Z = np.arange('2016-07', '2016-08', dtype='datetime64[D]')\n",
    "print(Z)"
   ]
  },
  {
   "cell_type": "code",
   "execution_count": 52,
   "metadata": {},
   "outputs": [
    {
     "data": {
      "text/plain": [
       "array([3., 3., 3.])"
      ]
     },
     "execution_count": 52,
     "metadata": {},
     "output_type": "execute_result"
    }
   ],
   "source": [
    "A = np.ones(3)*1\n",
    "B = np.ones(3)*2\n",
    "C = np.ones(3)*3\n",
    "np.add(A,B,out=B)"
   ]
  },
  {
   "cell_type": "code",
   "execution_count": 53,
   "metadata": {},
   "outputs": [
    {
     "data": {
      "text/plain": [
       "array([0.5, 0.5, 0.5])"
      ]
     },
     "execution_count": 53,
     "metadata": {},
     "output_type": "execute_result"
    }
   ],
   "source": [
    "np.divide(A,2,out=A)"
   ]
  },
  {
   "cell_type": "code",
   "execution_count": 54,
   "metadata": {},
   "outputs": [
    {
     "data": {
      "text/plain": [
       "array([-0.5, -0.5, -0.5])"
      ]
     },
     "execution_count": 54,
     "metadata": {},
     "output_type": "execute_result"
    }
   ],
   "source": [
    "np.negative(A,out=A)"
   ]
  },
  {
   "cell_type": "code",
   "execution_count": 55,
   "metadata": {},
   "outputs": [
    {
     "data": {
      "text/plain": [
       "array([-1.5, -1.5, -1.5])"
      ]
     },
     "execution_count": 55,
     "metadata": {},
     "output_type": "execute_result"
    }
   ],
   "source": [
    "np.multiply(A,B,out=A)"
   ]
  },
  {
   "cell_type": "code",
   "execution_count": 57,
   "metadata": {},
   "outputs": [
    {
     "name": "stdout",
     "output_type": "stream",
     "text": [
      "[9. 5. 0. 4. 1. 1. 3. 7. 9. 7.]\n"
     ]
    }
   ],
   "source": [
    "Z = np.random.uniform(0,10,10)\n",
    "print (Z - Z%1)"
   ]
  },
  {
   "cell_type": "code",
   "execution_count": 58,
   "metadata": {},
   "outputs": [
    {
     "name": "stdout",
     "output_type": "stream",
     "text": [
      "[9. 5. 0. 4. 1. 1. 3. 7. 9. 7.]\n"
     ]
    }
   ],
   "source": [
    "print (np.floor(Z))"
   ]
  },
  {
   "cell_type": "code",
   "execution_count": 59,
   "metadata": {},
   "outputs": [
    {
     "name": "stdout",
     "output_type": "stream",
     "text": [
      "[9. 5. 0. 4. 1. 1. 3. 7. 9. 7.]\n"
     ]
    }
   ],
   "source": [
    "print (np.ceil(Z)-1)"
   ]
  },
  {
   "cell_type": "code",
   "execution_count": 60,
   "metadata": {},
   "outputs": [
    {
     "name": "stdout",
     "output_type": "stream",
     "text": [
      "[9 5 0 4 1 1 3 7 9 7]\n"
     ]
    }
   ],
   "source": [
    "print (Z.astype(int))"
   ]
  },
  {
   "cell_type": "code",
   "execution_count": 61,
   "metadata": {},
   "outputs": [
    {
     "name": "stdout",
     "output_type": "stream",
     "text": [
      "[9. 5. 0. 4. 1. 1. 3. 7. 9. 7.]\n"
     ]
    }
   ],
   "source": [
    "print (np.trunc(Z))"
   ]
  },
  {
   "cell_type": "code",
   "execution_count": 63,
   "metadata": {},
   "outputs": [
    {
     "name": "stdout",
     "output_type": "stream",
     "text": [
      "[[0. 1. 2. 3. 4.]\n",
      " [0. 1. 2. 3. 4.]\n",
      " [0. 1. 2. 3. 4.]\n",
      " [0. 1. 2. 3. 4.]\n",
      " [0. 1. 2. 3. 4.]]\n"
     ]
    }
   ],
   "source": [
    "Z = np.zeros((5,5))\n",
    "Z += np.arange(5)\n",
    "print (Z)"
   ]
  },
  {
   "cell_type": "code",
   "execution_count": 64,
   "metadata": {},
   "outputs": [
    {
     "name": "stdout",
     "output_type": "stream",
     "text": [
      "[0. 1. 2. 3. 4. 5. 6. 7. 8. 9.]\n"
     ]
    }
   ],
   "source": [
    "def generate():\n",
    "    for x in range(10):\n",
    "        yield x\n",
    "Z = np.fromiter(generate(),dtype=float,count=-1)\n",
    "print (Z)"
   ]
  },
  {
   "cell_type": "code",
   "execution_count": 65,
   "metadata": {},
   "outputs": [
    {
     "name": "stdout",
     "output_type": "stream",
     "text": [
      "[0.09090909 0.18181818 0.27272727 0.36363636 0.45454545 0.54545455\n",
      " 0.63636364 0.72727273 0.81818182 0.90909091]\n"
     ]
    }
   ],
   "source": [
    "Z = np.linspace(0,1,11,endpoint=False)[1:]\n",
    "print (Z)"
   ]
  },
  {
   "cell_type": "code",
   "execution_count": 66,
   "metadata": {},
   "outputs": [
    {
     "name": "stdout",
     "output_type": "stream",
     "text": [
      "[0.004488   0.05035196 0.42002686 0.44271676 0.61761577 0.67483245\n",
      " 0.73289415 0.73861019 0.77496304 0.93492647]\n"
     ]
    }
   ],
   "source": [
    "Z = np.random.random(10)\n",
    "Z.sort()\n",
    "print (Z)"
   ]
  },
  {
   "cell_type": "code",
   "execution_count": 67,
   "metadata": {},
   "outputs": [
    {
     "data": {
      "text/plain": [
       "45"
      ]
     },
     "execution_count": 67,
     "metadata": {},
     "output_type": "execute_result"
    }
   ],
   "source": [
    "Z = np.arange(10)\n",
    "np.add.reduce(Z)"
   ]
  },
  {
   "cell_type": "code",
   "execution_count": 69,
   "metadata": {},
   "outputs": [
    {
     "name": "stdout",
     "output_type": "stream",
     "text": [
      "False\n",
      "False\n"
     ]
    }
   ],
   "source": [
    "A = np.random.randint(0,2,5)\n",
    "B = np.random.randint(0,2,5)\n",
    "equal = np.allclose(A,B)\n",
    "print(equal)\n",
    "equal = np.array_equal(A,B)\n",
    "print(equal)"
   ]
  },
  {
   "cell_type": "code",
   "execution_count": 70,
   "metadata": {},
   "outputs": [
    {
     "ename": "ValueError",
     "evalue": "assignment destination is read-only",
     "output_type": "error",
     "traceback": [
      "\u001b[1;31m---------------------------------------------------------------------------\u001b[0m",
      "\u001b[1;31mValueError\u001b[0m                                Traceback (most recent call last)",
      "\u001b[1;32m<ipython-input-70-dcc5e7f145b5>\u001b[0m in \u001b[0;36m<module>\u001b[1;34m\u001b[0m\n\u001b[0;32m      1\u001b[0m \u001b[0mZ\u001b[0m \u001b[1;33m=\u001b[0m \u001b[0mnp\u001b[0m\u001b[1;33m.\u001b[0m\u001b[0mzeros\u001b[0m\u001b[1;33m(\u001b[0m\u001b[1;36m10\u001b[0m\u001b[1;33m)\u001b[0m\u001b[1;33m\u001b[0m\u001b[1;33m\u001b[0m\u001b[0m\n\u001b[0;32m      2\u001b[0m \u001b[0mZ\u001b[0m\u001b[1;33m.\u001b[0m\u001b[0mflags\u001b[0m\u001b[1;33m.\u001b[0m\u001b[0mwriteable\u001b[0m \u001b[1;33m=\u001b[0m \u001b[1;32mFalse\u001b[0m\u001b[1;33m\u001b[0m\u001b[1;33m\u001b[0m\u001b[0m\n\u001b[1;32m----> 3\u001b[1;33m \u001b[0mZ\u001b[0m\u001b[1;33m[\u001b[0m\u001b[1;36m0\u001b[0m\u001b[1;33m]\u001b[0m \u001b[1;33m=\u001b[0m \u001b[1;36m1\u001b[0m\u001b[1;33m\u001b[0m\u001b[1;33m\u001b[0m\u001b[0m\n\u001b[0m",
      "\u001b[1;31mValueError\u001b[0m: assignment destination is read-only"
     ]
    }
   ],
   "source": [
    "Z = np.zeros(10)\n",
    "Z.flags.writeable = False\n",
    "Z[0] = 1"
   ]
  },
  {
   "cell_type": "code",
   "execution_count": 71,
   "metadata": {},
   "outputs": [
    {
     "name": "stdout",
     "output_type": "stream",
     "text": [
      "[1.18326099 0.75999239 1.26256857 1.17130449 0.09988949 0.94561186\n",
      " 0.67094375 1.18471343 0.29104786 0.5653736 ]\n",
      "[0.56980396 0.50110721 0.78670397 0.61947371 0.16310215 1.30703645\n",
      " 1.56199136 0.57267104 1.29836825 0.36023073]\n"
     ]
    }
   ],
   "source": [
    "Z = np.random.random((10,2))\n",
    "X,Y = Z[:,0], Z[:,1]\n",
    "R = np.sqrt(X**2+Y**2)\n",
    "T = np.arctan2(Y,X)\n",
    "print (R)\n",
    "print (T)"
   ]
  },
  {
   "cell_type": "code",
   "execution_count": 72,
   "metadata": {},
   "outputs": [
    {
     "name": "stdout",
     "output_type": "stream",
     "text": [
      "[0.28774998 0.40936491 0.78581571 0.45736156 0.54365424 0.1261396\n",
      " 0.46800652 0.         0.06186931 0.16313421]\n"
     ]
    }
   ],
   "source": [
    "Z = np.random.random(10)\n",
    "Z[Z.argmax()] = 0\n",
    "print (Z)"
   ]
  },
  {
   "cell_type": "code",
   "execution_count": 73,
   "metadata": {},
   "outputs": [
    {
     "name": "stdout",
     "output_type": "stream",
     "text": [
      "[[(0.  , 0.  ) (0.25, 0.  ) (0.5 , 0.  ) (0.75, 0.  ) (1.  , 0.  )]\n",
      " [(0.  , 0.25) (0.25, 0.25) (0.5 , 0.25) (0.75, 0.25) (1.  , 0.25)]\n",
      " [(0.  , 0.5 ) (0.25, 0.5 ) (0.5 , 0.5 ) (0.75, 0.5 ) (1.  , 0.5 )]\n",
      " [(0.  , 0.75) (0.25, 0.75) (0.5 , 0.75) (0.75, 0.75) (1.  , 0.75)]\n",
      " [(0.  , 1.  ) (0.25, 1.  ) (0.5 , 1.  ) (0.75, 1.  ) (1.  , 1.  )]]\n"
     ]
    }
   ],
   "source": [
    "Z = np.zeros((5,5), [('x',float),('y',float)])\n",
    "Z['x'], Z['y'] = np.meshgrid(np.linspace(0,1,5),np.linspace(0,1,5))\n",
    "print(Z)"
   ]
  },
  {
   "cell_type": "code",
   "execution_count": 74,
   "metadata": {},
   "outputs": [
    {
     "name": "stdout",
     "output_type": "stream",
     "text": [
      "3638.1636371179666\n"
     ]
    }
   ],
   "source": [
    "X = np.arange(8)\n",
    "Y = X + 0.5\n",
    "C = 1.0 / np.subtract.outer(X, Y)\n",
    "print(np.linalg.det(C))"
   ]
  },
  {
   "cell_type": "code",
   "execution_count": 75,
   "metadata": {},
   "outputs": [
    {
     "name": "stdout",
     "output_type": "stream",
     "text": [
      "-128\n",
      "127\n",
      "-2147483648\n",
      "2147483647\n",
      "-9223372036854775808\n",
      "9223372036854775807\n",
      "-3.4028235e+38\n",
      "3.4028235e+38\n",
      "1.1920929e-07\n",
      "-1.7976931348623157e+308\n",
      "1.7976931348623157e+308\n",
      "2.220446049250313e-16\n"
     ]
    }
   ],
   "source": [
    "for dtype in [np.int8, np.int32, np.int64]:\n",
    "    print(np.iinfo(dtype).min)\n",
    "    print(np.iinfo(dtype).max)\n",
    "for dtype in [np.float32, np.float64]:\n",
    "    print(np.finfo(dtype).min)\n",
    "    print(np.finfo(dtype).max)\n",
    "    print(np.finfo(dtype).eps)"
   ]
  },
  {
   "cell_type": "code",
   "execution_count": 76,
   "metadata": {},
   "outputs": [
    {
     "name": "stdout",
     "output_type": "stream",
     "text": [
      "[[0. 0. 0. 0. 0. 0. 0. 0. 0. 0. 0. 0. 0. 0. 0. 0.]\n",
      " [0. 0. 0. 0. 0. 0. 0. 0. 0. 0. 0. 0. 0. 0. 0. 0.]\n",
      " [0. 0. 0. 0. 0. 0. 0. 0. 0. 0. 0. 0. 0. 0. 0. 0.]\n",
      " [0. 0. 0. 0. 0. 0. 0. 0. 0. 0. 0. 0. 0. 0. 0. 0.]\n",
      " [0. 0. 0. 0. 0. 0. 0. 0. 0. 0. 0. 0. 0. 0. 0. 0.]\n",
      " [0. 0. 0. 0. 0. 0. 0. 0. 0. 0. 0. 0. 0. 0. 0. 0.]\n",
      " [0. 0. 0. 0. 0. 0. 0. 0. 0. 0. 0. 0. 0. 0. 0. 0.]\n",
      " [0. 0. 0. 0. 0. 0. 0. 0. 0. 0. 0. 0. 0. 0. 0. 0.]\n",
      " [0. 0. 0. 0. 0. 0. 0. 0. 0. 0. 0. 0. 0. 0. 0. 0.]\n",
      " [0. 0. 0. 0. 0. 0. 0. 0. 0. 0. 0. 0. 0. 0. 0. 0.]\n",
      " [0. 0. 0. 0. 0. 0. 0. 0. 0. 0. 0. 0. 0. 0. 0. 0.]\n",
      " [0. 0. 0. 0. 0. 0. 0. 0. 0. 0. 0. 0. 0. 0. 0. 0.]\n",
      " [0. 0. 0. 0. 0. 0. 0. 0. 0. 0. 0. 0. 0. 0. 0. 0.]\n",
      " [0. 0. 0. 0. 0. 0. 0. 0. 0. 0. 0. 0. 0. 0. 0. 0.]\n",
      " [0. 0. 0. 0. 0. 0. 0. 0. 0. 0. 0. 0. 0. 0. 0. 0.]\n",
      " [0. 0. 0. 0. 0. 0. 0. 0. 0. 0. 0. 0. 0. 0. 0. 0.]]\n"
     ]
    }
   ],
   "source": [
    "np.set_printoptions(threshold=np.nan)\n",
    "Z = np.zeros((16,16))\n",
    "print (Z)"
   ]
  },
  {
   "cell_type": "code",
   "execution_count": 77,
   "metadata": {},
   "outputs": [
    {
     "name": "stdout",
     "output_type": "stream",
     "text": [
      "63\n"
     ]
    }
   ],
   "source": [
    "Z = np.arange(100)\n",
    "v = np.random.uniform(0,100)\n",
    "index = (np.abs(Z-v)).argmin()\n",
    "print (Z[index])"
   ]
  },
  {
   "cell_type": "code",
   "execution_count": 78,
   "metadata": {},
   "outputs": [
    {
     "name": "stdout",
     "output_type": "stream",
     "text": [
      "[((0., 0.), (0., 0., 0.)) ((0., 0.), (0., 0., 0.))\n",
      " ((0., 0.), (0., 0., 0.)) ((0., 0.), (0., 0., 0.))\n",
      " ((0., 0.), (0., 0., 0.)) ((0., 0.), (0., 0., 0.))\n",
      " ((0., 0.), (0., 0., 0.)) ((0., 0.), (0., 0., 0.))\n",
      " ((0., 0.), (0., 0., 0.)) ((0., 0.), (0., 0., 0.))]\n"
     ]
    }
   ],
   "source": [
    "Z = np.zeros(10, [ ('position', [ ('x', float, 1),('y', float, 1)]),('color',    [ ('r', float, 1),('g', float, 1),('b', float, 1)])])\n",
    "print (Z)"
   ]
  },
  {
   "cell_type": "code",
   "execution_count": 79,
   "metadata": {},
   "outputs": [
    {
     "name": "stdout",
     "output_type": "stream",
     "text": [
      "[[0.         0.5105446  0.18592872 0.32258061 0.74473835 0.41864079\n",
      "  0.31896013 0.21146976 0.33844573 0.76951572]\n",
      " [0.5105446  0.         0.6885269  0.60805576 0.6501936  0.33965683\n",
      "  0.29396904 0.66550972 0.81779715 0.26939185]\n",
      " [0.18592872 0.6885269  0.         0.42089192 0.80267516 0.53408071\n",
      "  0.50211044 0.10847411 0.16161276 0.95170535]\n",
      " [0.32258061 0.60805576 0.42089192 0.         1.03630951 0.67902082\n",
      "  0.31494287 0.50261548 0.57527938 0.80315619]\n",
      " [0.74473835 0.6501936  0.80267516 1.03630951 0.         0.36770448\n",
      "  0.81525249 0.70351628 0.81393999 0.8217612 ]\n",
      " [0.41864079 0.33965683 0.53408071 0.67902082 0.36770448 0.\n",
      "  0.44846796 0.46285781 0.60945706 0.58140096]\n",
      " [0.31896013 0.29396904 0.50211044 0.31494287 0.81525249 0.44846796\n",
      "  0.         0.52391428 0.65740445 0.50003991]\n",
      " [0.21146976 0.66550972 0.10847411 0.50261548 0.70351628 0.46285781\n",
      "  0.52391428 0.         0.15362382 0.9340026 ]\n",
      " [0.33844573 0.81779715 0.16161276 0.57527938 0.81393999 0.60945706\n",
      "  0.65740445 0.15362382 0.         1.08562568]\n",
      " [0.76951572 0.26939185 0.95170535 0.80315619 0.8217612  0.58140096\n",
      "  0.50003991 0.9340026  1.08562568 0.        ]]\n"
     ]
    }
   ],
   "source": [
    "Z = np.random.random((10,2))\n",
    "X,Y = np.atleast_2d(Z[:,0], Z[:,1])\n",
    "D = np.sqrt( (X-X.T)**2 + (Y-Y.T)**2)\n",
    "print (D)"
   ]
  },
  {
   "cell_type": "code",
   "execution_count": 80,
   "metadata": {},
   "outputs": [
    {
     "name": "stdout",
     "output_type": "stream",
     "text": [
      "[[0.         0.5105446  0.18592872 0.32258061 0.74473835 0.41864079\n",
      "  0.31896013 0.21146976 0.33844573 0.76951572]\n",
      " [0.5105446  0.         0.6885269  0.60805576 0.6501936  0.33965683\n",
      "  0.29396904 0.66550972 0.81779715 0.26939185]\n",
      " [0.18592872 0.6885269  0.         0.42089192 0.80267516 0.53408071\n",
      "  0.50211044 0.10847411 0.16161276 0.95170535]\n",
      " [0.32258061 0.60805576 0.42089192 0.         1.03630951 0.67902082\n",
      "  0.31494287 0.50261548 0.57527938 0.80315619]\n",
      " [0.74473835 0.6501936  0.80267516 1.03630951 0.         0.36770448\n",
      "  0.81525249 0.70351628 0.81393999 0.8217612 ]\n",
      " [0.41864079 0.33965683 0.53408071 0.67902082 0.36770448 0.\n",
      "  0.44846796 0.46285781 0.60945706 0.58140096]\n",
      " [0.31896013 0.29396904 0.50211044 0.31494287 0.81525249 0.44846796\n",
      "  0.         0.52391428 0.65740445 0.50003991]\n",
      " [0.21146976 0.66550972 0.10847411 0.50261548 0.70351628 0.46285781\n",
      "  0.52391428 0.         0.15362382 0.9340026 ]\n",
      " [0.33844573 0.81779715 0.16161276 0.57527938 0.81393999 0.60945706\n",
      "  0.65740445 0.15362382 0.         1.08562568]\n",
      " [0.76951572 0.26939185 0.95170535 0.80315619 0.8217612  0.58140096\n",
      "  0.50003991 0.9340026  1.08562568 0.        ]]\n"
     ]
    }
   ],
   "source": [
    "import scipy\n",
    "import scipy.spatial\n",
    "D = scipy.spatial.distance.cdist(Z,Z)\n",
    "print (D)"
   ]
  },
  {
   "cell_type": "code",
   "execution_count": 81,
   "metadata": {},
   "outputs": [
    {
     "name": "stdout",
     "output_type": "stream",
     "text": [
      "[0. 1. 2. 3. 4. 5. 6. 7. 8. 9.]\n"
     ]
    }
   ],
   "source": [
    "Z = np.arange(10, dtype=np.int32)\n",
    "Z = Z.astype(np.float32, copy=False)\n",
    "print (Z)"
   ]
  },
  {
   "cell_type": "code",
   "execution_count": 82,
   "metadata": {},
   "outputs": [
    {
     "name": "stdout",
     "output_type": "stream",
     "text": [
      "(0, 0) 0\n",
      "(0, 1) 1\n",
      "(0, 2) 2\n",
      "(1, 0) 3\n",
      "(1, 1) 4\n",
      "(1, 2) 5\n",
      "(2, 0) 6\n",
      "(2, 1) 7\n",
      "(2, 2) 8\n",
      "(0, 0) 0\n",
      "(0, 1) 1\n",
      "(0, 2) 2\n",
      "(1, 0) 3\n",
      "(1, 1) 4\n",
      "(1, 2) 5\n",
      "(2, 0) 6\n",
      "(2, 1) 7\n",
      "(2, 2) 8\n"
     ]
    }
   ],
   "source": [
    "Z = np.arange(9).reshape(3,3)\n",
    "for index, value in np.ndenumerate(Z):\n",
    "    print (index, value)\n",
    "for index in np.ndindex(Z.shape):\n",
    "    print (index, Z[index])"
   ]
  },
  {
   "cell_type": "code",
   "execution_count": 83,
   "metadata": {},
   "outputs": [
    {
     "name": "stdout",
     "output_type": "stream",
     "text": [
      "[[0.36787944 0.44822088 0.51979489 0.57375342 0.60279818 0.60279818\n",
      "  0.57375342 0.51979489 0.44822088 0.36787944]\n",
      " [0.44822088 0.54610814 0.63331324 0.69905581 0.73444367 0.73444367\n",
      "  0.69905581 0.63331324 0.54610814 0.44822088]\n",
      " [0.51979489 0.63331324 0.73444367 0.81068432 0.85172308 0.85172308\n",
      "  0.81068432 0.73444367 0.63331324 0.51979489]\n",
      " [0.57375342 0.69905581 0.81068432 0.89483932 0.9401382  0.9401382\n",
      "  0.89483932 0.81068432 0.69905581 0.57375342]\n",
      " [0.60279818 0.73444367 0.85172308 0.9401382  0.98773022 0.98773022\n",
      "  0.9401382  0.85172308 0.73444367 0.60279818]\n",
      " [0.60279818 0.73444367 0.85172308 0.9401382  0.98773022 0.98773022\n",
      "  0.9401382  0.85172308 0.73444367 0.60279818]\n",
      " [0.57375342 0.69905581 0.81068432 0.89483932 0.9401382  0.9401382\n",
      "  0.89483932 0.81068432 0.69905581 0.57375342]\n",
      " [0.51979489 0.63331324 0.73444367 0.81068432 0.85172308 0.85172308\n",
      "  0.81068432 0.73444367 0.63331324 0.51979489]\n",
      " [0.44822088 0.54610814 0.63331324 0.69905581 0.73444367 0.73444367\n",
      "  0.69905581 0.63331324 0.54610814 0.44822088]\n",
      " [0.36787944 0.44822088 0.51979489 0.57375342 0.60279818 0.60279818\n",
      "  0.57375342 0.51979489 0.44822088 0.36787944]]\n"
     ]
    }
   ],
   "source": [
    "X, Y = np.meshgrid(np.linspace(-1,1,10), np.linspace(-1,1,10))\n",
    "D = np.sqrt(X*X+Y*Y)\n",
    "sigma, mu = 1.0, 0.0\n",
    "G = np.exp(-( (D-mu)**2 / ( 2.0 * sigma**2 ) ) )\n",
    "print (G)"
   ]
  },
  {
   "cell_type": "code",
   "execution_count": 84,
   "metadata": {},
   "outputs": [
    {
     "name": "stdout",
     "output_type": "stream",
     "text": [
      "[[0. 0. 0. 0. 0. 0. 0. 0. 0. 0.]\n",
      " [0. 0. 0. 0. 0. 0. 0. 0. 0. 0.]\n",
      " [0. 0. 0. 0. 0. 0. 0. 0. 0. 0.]\n",
      " [0. 0. 1. 0. 0. 0. 0. 0. 0. 0.]\n",
      " [0. 0. 0. 0. 0. 0. 0. 0. 0. 1.]\n",
      " [0. 0. 0. 0. 0. 0. 0. 0. 0. 0.]\n",
      " [0. 0. 0. 1. 0. 0. 0. 0. 0. 0.]\n",
      " [0. 0. 0. 0. 0. 0. 0. 0. 0. 0.]\n",
      " [0. 0. 0. 0. 0. 0. 0. 0. 0. 0.]\n",
      " [0. 0. 0. 0. 0. 0. 0. 0. 0. 0.]]\n"
     ]
    }
   ],
   "source": [
    "n = 10\n",
    "p = 3\n",
    "Z = np.zeros((n,n))\n",
    "np.put(Z, np.random.choice(range(n*n), p, replace=False),1)\n",
    "print (Z)"
   ]
  },
  {
   "cell_type": "code",
   "execution_count": 85,
   "metadata": {},
   "outputs": [
    {
     "name": "stdout",
     "output_type": "stream",
     "text": [
      "[[-0.26429228 -0.00453001  0.50105636  0.11777795  0.0593469  -0.36987849\n",
      "  -0.12095847 -0.01965363 -0.07945961  0.18059128]\n",
      " [ 0.0449509   0.08905645 -0.38649748  0.0341291  -0.13349029  0.26909836\n",
      "  -0.10496886 -0.38164642  0.41109703  0.15827122]\n",
      " [ 0.2201593  -0.43875824  0.35654729  0.30101962  0.34416655 -0.54701454\n",
      "  -0.26321423 -0.38363563  0.37080377  0.03992612]\n",
      " [-0.32687631  0.06447696  0.23149144  0.28914805 -0.23903955 -0.09820893\n",
      "  -0.28640041  0.19566629 -0.08833481  0.25807726]\n",
      " [-0.36637723  0.09415286  0.14765348 -0.09291785 -0.06851544  0.2454429\n",
      "  -0.26428947  0.22461669  0.25214304 -0.17190898]]\n"
     ]
    }
   ],
   "source": [
    "X = np.random.rand(5, 10)\n",
    "Y = X - X.mean(axis=1, keepdims=True)\n",
    "print(Y)"
   ]
  },
  {
   "cell_type": "code",
   "execution_count": 86,
   "metadata": {},
   "outputs": [
    {
     "name": "stdout",
     "output_type": "stream",
     "text": [
      "[[-0.26429228 -0.00453001  0.50105636  0.11777795  0.0593469  -0.36987849\n",
      "  -0.12095847 -0.01965363 -0.07945961  0.18059128]\n",
      " [ 0.0449509   0.08905645 -0.38649748  0.0341291  -0.13349029  0.26909836\n",
      "  -0.10496886 -0.38164642  0.41109703  0.15827122]\n",
      " [ 0.2201593  -0.43875824  0.35654729  0.30101962  0.34416655 -0.54701454\n",
      "  -0.26321423 -0.38363563  0.37080377  0.03992612]\n",
      " [-0.32687631  0.06447696  0.23149144  0.28914805 -0.23903955 -0.09820893\n",
      "  -0.28640041  0.19566629 -0.08833481  0.25807726]\n",
      " [-0.36637723  0.09415286  0.14765348 -0.09291785 -0.06851544  0.2454429\n",
      "  -0.26428947  0.22461669  0.25214304 -0.17190898]]\n"
     ]
    }
   ],
   "source": [
    "Y = X - X.mean(axis=1).reshape(-1, 1)\n",
    "print (Y)"
   ]
  },
  {
   "cell_type": "code",
   "execution_count": 87,
   "metadata": {},
   "outputs": [
    {
     "name": "stdout",
     "output_type": "stream",
     "text": [
      "[[1 7 9]\n",
      " [3 1 6]\n",
      " [8 0 4]]\n",
      "[[8 0 4]\n",
      " [3 1 6]\n",
      " [1 7 9]]\n"
     ]
    }
   ],
   "source": [
    "Z = np.random.randint(0,10,(3,3))\n",
    "print (Z)\n",
    "print (Z[Z[:,1].argsort()])"
   ]
  },
  {
   "cell_type": "code",
   "execution_count": 88,
   "metadata": {},
   "outputs": [
    {
     "name": "stdout",
     "output_type": "stream",
     "text": [
      "False\n"
     ]
    }
   ],
   "source": [
    "Z = np.random.randint(0,3,(3,10))\n",
    "print ((~Z.any(axis=0)).any())"
   ]
  },
  {
   "cell_type": "code",
   "execution_count": 89,
   "metadata": {},
   "outputs": [
    {
     "name": "stdout",
     "output_type": "stream",
     "text": [
      "0.464328686134742\n"
     ]
    }
   ],
   "source": [
    "Z = np.random.uniform(0,1,10)\n",
    "z = 0.5\n",
    "m = Z.flat[np.abs(Z - z).argmin()]\n",
    "print (m)"
   ]
  },
  {
   "cell_type": "code",
   "execution_count": 90,
   "metadata": {},
   "outputs": [
    {
     "name": "stdout",
     "output_type": "stream",
     "text": [
      "[[0 1 2]\n",
      " [1 2 3]\n",
      " [2 3 4]]\n"
     ]
    }
   ],
   "source": [
    "A = np.arange(3).reshape(3,1)\n",
    "B = np.arange(3).reshape(1,3)\n",
    "it = np.nditer([A,B,None])\n",
    "for x,y,z in it: \n",
    "    z[...] = x + y\n",
    "print (it.operands[2])"
   ]
  },
  {
   "cell_type": "code",
   "execution_count": 91,
   "metadata": {},
   "outputs": [
    {
     "name": "stdout",
     "output_type": "stream",
     "text": [
      "range_10\n"
     ]
    }
   ],
   "source": [
    "class NamedArray(np.ndarray):\n",
    "    def __new__(cls, array, name=\"no name\"):\n",
    "        obj = np.asarray(array).view(cls)\n",
    "        obj.name = name\n",
    "        return obj\n",
    "    def __array_finalize__(self, obj):\n",
    "        if obj is None: return\n",
    "        self.info = getattr(obj, 'name', \"no name\")\n",
    "Z = NamedArray(np.arange(10), \"range_10\")\n",
    "print (Z.name)"
   ]
  },
  {
   "cell_type": "code",
   "execution_count": 92,
   "metadata": {},
   "outputs": [
    {
     "name": "stdout",
     "output_type": "stream",
     "text": [
      "[4. 3. 1. 3. 1. 5. 3. 4. 4. 2.]\n"
     ]
    }
   ],
   "source": [
    "Z = np.ones(10)\n",
    "I = np.random.randint(0,len(Z),20)\n",
    "Z += np.bincount(I, minlength=len(Z))\n",
    "print(Z)"
   ]
  },
  {
   "cell_type": "code",
   "execution_count": 93,
   "metadata": {},
   "outputs": [
    {
     "name": "stdout",
     "output_type": "stream",
     "text": [
      "[7. 5. 1. 5. 1. 9. 5. 7. 7. 3.]\n"
     ]
    }
   ],
   "source": [
    "np.add.at(Z, I, 1)\n",
    "print(Z)"
   ]
  },
  {
   "cell_type": "code",
   "execution_count": 94,
   "metadata": {},
   "outputs": [
    {
     "name": "stdout",
     "output_type": "stream",
     "text": [
      "[0. 7. 0. 6. 5. 0. 0. 0. 0. 3.]\n"
     ]
    }
   ],
   "source": [
    "X = [1,2,3,4,5,6]\n",
    "I = [1,3,9,3,4,1]\n",
    "F = np.bincount(I,X)\n",
    "print (F)"
   ]
  },
  {
   "cell_type": "code",
   "execution_count": 95,
   "metadata": {},
   "outputs": [
    {
     "name": "stdout",
     "output_type": "stream",
     "text": [
      "8\n"
     ]
    }
   ],
   "source": [
    "w,h = 16,16\n",
    "I = np.random.randint(0,2,(h,w,3)).astype(np.ubyte)\n",
    "F = I[...,0]*(256*256) + I[...,1]*256 +I[...,2]\n",
    "n = len(np.unique(F))\n",
    "print (n)"
   ]
  },
  {
   "cell_type": "code",
   "execution_count": 96,
   "metadata": {},
   "outputs": [
    {
     "name": "stdout",
     "output_type": "stream",
     "text": [
      "[[61 55 34 56]\n",
      " [46 63 44 56]\n",
      " [55 57 57 55]]\n"
     ]
    }
   ],
   "source": [
    "A = np.random.randint(0,10,(3,4,3,4))\n",
    "sum = A.sum(axis=(-2,-1))\n",
    "print (sum)"
   ]
  },
  {
   "cell_type": "code",
   "execution_count": 97,
   "metadata": {},
   "outputs": [
    {
     "name": "stdout",
     "output_type": "stream",
     "text": [
      "[[61 55 34 56]\n",
      " [46 63 44 56]\n",
      " [55 57 57 55]]\n"
     ]
    }
   ],
   "source": [
    "sum = A.reshape(A.shape[:-2] + (-1,)).sum(axis=-1)\n",
    "print (sum)"
   ]
  },
  {
   "cell_type": "code",
   "execution_count": 98,
   "metadata": {},
   "outputs": [
    {
     "name": "stdout",
     "output_type": "stream",
     "text": [
      "[0.55725349 0.47007814 0.43271842 0.47729843 0.51358495 0.54896786\n",
      " 0.56687459 0.40366354 0.54374113 0.47198653]\n"
     ]
    }
   ],
   "source": [
    "D = np.random.uniform(0,1,100)\n",
    "S = np.random.randint(0,10,100)\n",
    "D_sums = np.bincount(S, weights=D)\n",
    "D_counts = np.bincount(S)\n",
    "D_means = D_sums / D_counts\n",
    "print (D_means)"
   ]
  },
  {
   "cell_type": "code",
   "execution_count": 99,
   "metadata": {},
   "outputs": [
    {
     "name": "stdout",
     "output_type": "stream",
     "text": [
      "0    0.557253\n",
      "1    0.470078\n",
      "2    0.432718\n",
      "3    0.477298\n",
      "4    0.513585\n",
      "5    0.548968\n",
      "6    0.566875\n",
      "7    0.403664\n",
      "8    0.543741\n",
      "9    0.471987\n",
      "dtype: float64\n"
     ]
    }
   ],
   "source": [
    "import pandas as pd\n",
    "print(pd.Series(D).groupby(S).mean())"
   ]
  },
  {
   "cell_type": "code",
   "execution_count": 103,
   "metadata": {},
   "outputs": [
    {
     "name": "stdout",
     "output_type": "stream",
     "text": [
      "Wall time: 0 ns\n"
     ]
    }
   ],
   "source": [
    "%%time\n",
    "A = np.random.uniform(0,1,(5,5))\n",
    "B = np.random.uniform(0,1,(5,5))\n",
    "np.diag(np.dot(A, B))"
   ]
  },
  {
   "cell_type": "code",
   "execution_count": 104,
   "metadata": {},
   "outputs": [
    {
     "name": "stdout",
     "output_type": "stream",
     "text": [
      "Wall time: 0 ns\n"
     ]
    },
    {
     "data": {
      "text/plain": [
       "array([1.49889548, 1.20361894, 1.06170903, 1.48535099, 1.29019402])"
      ]
     },
     "execution_count": 104,
     "metadata": {},
     "output_type": "execute_result"
    }
   ],
   "source": [
    "%%time\n",
    "np.sum(A * B.T, axis=1)"
   ]
  },
  {
   "cell_type": "code",
   "execution_count": 105,
   "metadata": {},
   "outputs": [
    {
     "name": "stdout",
     "output_type": "stream",
     "text": [
      "Wall time: 0 ns\n"
     ]
    },
    {
     "data": {
      "text/plain": [
       "array([1.49889548, 1.20361894, 1.06170903, 1.48535099, 1.29019402])"
      ]
     },
     "execution_count": 105,
     "metadata": {},
     "output_type": "execute_result"
    }
   ],
   "source": [
    "%%time\n",
    "np.einsum(\"ij,ji->i\", A, B)"
   ]
  },
  {
   "cell_type": "code",
   "execution_count": 106,
   "metadata": {},
   "outputs": [
    {
     "name": "stdout",
     "output_type": "stream",
     "text": [
      "[1. 0. 0. 0. 2. 0. 0. 0. 3. 0. 0. 0. 4. 0. 0. 0. 5.]\n"
     ]
    }
   ],
   "source": [
    "Z = np.array([1,2,3,4,5])\n",
    "nz = 3\n",
    "Z0 = np.zeros(len(Z) + (len(Z)-1)*(nz))\n",
    "Z0[::nz+1] = Z\n",
    "print (Z0)"
   ]
  },
  {
   "cell_type": "code",
   "execution_count": 107,
   "metadata": {},
   "outputs": [
    {
     "name": "stdout",
     "output_type": "stream",
     "text": [
      "[[[2. 2. 2.]\n",
      "  [2. 2. 2.]\n",
      "  [2. 2. 2.]\n",
      "  [2. 2. 2.]\n",
      "  [2. 2. 2.]]\n",
      "\n",
      " [[2. 2. 2.]\n",
      "  [2. 2. 2.]\n",
      "  [2. 2. 2.]\n",
      "  [2. 2. 2.]\n",
      "  [2. 2. 2.]]\n",
      "\n",
      " [[2. 2. 2.]\n",
      "  [2. 2. 2.]\n",
      "  [2. 2. 2.]\n",
      "  [2. 2. 2.]\n",
      "  [2. 2. 2.]]\n",
      "\n",
      " [[2. 2. 2.]\n",
      "  [2. 2. 2.]\n",
      "  [2. 2. 2.]\n",
      "  [2. 2. 2.]\n",
      "  [2. 2. 2.]]\n",
      "\n",
      " [[2. 2. 2.]\n",
      "  [2. 2. 2.]\n",
      "  [2. 2. 2.]\n",
      "  [2. 2. 2.]\n",
      "  [2. 2. 2.]]]\n"
     ]
    }
   ],
   "source": [
    "A = np.ones((5,5,3))\n",
    "B = 2*np.ones((5,5))\n",
    "print (A * B[:,:,None])"
   ]
  },
  {
   "cell_type": "code",
   "execution_count": 108,
   "metadata": {},
   "outputs": [
    {
     "name": "stdout",
     "output_type": "stream",
     "text": [
      "[[ 5  6  7  8  9]\n",
      " [ 0  1  2  3  4]\n",
      " [10 11 12 13 14]\n",
      " [15 16 17 18 19]\n",
      " [20 21 22 23 24]]\n"
     ]
    }
   ],
   "source": [
    "A = np.arange(25).reshape(5,5)\n",
    "A[[0,1]] = A[[1,0]]\n",
    "print (A)"
   ]
  },
  {
   "cell_type": "code",
   "execution_count": 109,
   "metadata": {},
   "outputs": [
    {
     "name": "stdout",
     "output_type": "stream",
     "text": [
      "[( 1, 15) ( 1, 16) ( 2,  4) ( 2, 60) ( 4, 60) (14, 18) (14, 87) (15, 16)\n",
      " (18, 87) (19, 33) (19, 43) (21, 81) (21, 89) (23, 24) (23, 48) (24, 48)\n",
      " (33, 43) (62, 80) (62, 81) (65, 70) (65, 87) (70, 87) (74, 82) (74, 92)\n",
      " (80, 81) (81, 89) (82, 92) (93, 97) (93, 99) (97, 99)]\n"
     ]
    }
   ],
   "source": [
    "faces = np.random.randint(0,100,(10,3))\n",
    "F = np.roll(faces.repeat(2,axis=1),-1,axis=1)\n",
    "F = F.reshape(len(F)*3,2)\n",
    "F = np.sort(F,axis=1)\n",
    "G = F.view( dtype=[('p0',F.dtype),('p1',F.dtype)] )\n",
    "G = np.unique(G)\n",
    "print (G)"
   ]
  },
  {
   "cell_type": "code",
   "execution_count": 110,
   "metadata": {},
   "outputs": [
    {
     "name": "stdout",
     "output_type": "stream",
     "text": [
      "[1 1 2 3 4 4 6]\n"
     ]
    }
   ],
   "source": [
    "C = np.bincount([1,1,2,3,4,4,6])\n",
    "A = np.repeat(np.arange(len(C)), C)\n",
    "print (A)"
   ]
  },
  {
   "cell_type": "code",
   "execution_count": 111,
   "metadata": {},
   "outputs": [
    {
     "name": "stdout",
     "output_type": "stream",
     "text": [
      "[ 1.  2.  3.  4.  5.  6.  7.  8.  9. 10. 11. 12. 13. 14. 15. 16. 17. 18.]\n"
     ]
    }
   ],
   "source": [
    "def moving_average(a, n=3) :\n",
    "    ret = np.cumsum(a, dtype=float)\n",
    "    ret[n:] = ret[n:] - ret[:-n]\n",
    "    return ret[n - 1:] / n\n",
    "Z = np.arange(20)\n",
    "print(moving_average(Z, n=3))"
   ]
  },
  {
   "cell_type": "code",
   "execution_count": 112,
   "metadata": {},
   "outputs": [
    {
     "name": "stdout",
     "output_type": "stream",
     "text": [
      "[[0 1 2]\n",
      " [1 2 3]\n",
      " [2 3 4]\n",
      " [3 4 5]\n",
      " [4 5 6]\n",
      " [5 6 7]\n",
      " [6 7 8]\n",
      " [7 8 9]]\n"
     ]
    }
   ],
   "source": [
    "from numpy.lib import stride_tricks\n",
    "def rolling(a, window):\n",
    "    shape = (a.size - window + 1, window)\n",
    "    strides = (a.itemsize, a.itemsize)\n",
    "    return stride_tricks.as_strided(a, shape=shape, strides=strides)\n",
    "Z = rolling(np.arange(10), 3)\n",
    "print (Z)"
   ]
  },
  {
   "cell_type": "code",
   "execution_count": 113,
   "metadata": {},
   "outputs": [
    {
     "data": {
      "text/plain": [
       "array([1, 1, 0, 0, 1, 0, 1, 1, 0, 1, 0, 1, 0, 1, 1, 1, 1, 1, 0, 1, 0, 0,\n",
       "       1, 0, 1, 0, 0, 1, 0, 1, 0, 1, 0, 0, 0, 0, 0, 1, 0, 0, 1, 1, 0, 0,\n",
       "       0, 0, 1, 1, 0, 1, 0, 1, 0, 0, 1, 1, 1, 1, 0, 0, 1, 1, 1, 1, 1, 1,\n",
       "       1, 1, 1, 1, 1, 0, 0, 0, 0, 1, 1, 0, 1, 0, 0, 1, 1, 1, 0, 1, 0, 1,\n",
       "       1, 0, 0, 1, 0, 1, 0, 1, 1, 0, 1, 1])"
      ]
     },
     "execution_count": 113,
     "metadata": {},
     "output_type": "execute_result"
    }
   ],
   "source": [
    "Z = np.random.randint(0,2,100)\n",
    "np.logical_not(Z, out=Z)"
   ]
  },
  {
   "cell_type": "code",
   "execution_count": 114,
   "metadata": {},
   "outputs": [
    {
     "data": {
      "text/plain": [
       "array([ 0.75653466,  0.3390296 ,  0.77369376,  0.57613206, -0.82822918,\n",
       "        0.97795112, -0.06588728, -0.46850384,  0.99475498,  0.43390406,\n",
       "        0.53402773, -0.35750462, -0.67393432,  0.43768632,  0.30233643,\n",
       "       -0.06247059,  0.04640874, -0.88605773,  0.55757183, -0.78287661,\n",
       "       -0.67455424, -0.04534262, -0.09754573, -0.46551682,  0.91336287,\n",
       "        0.63968074, -0.12499628,  0.07839495, -0.08195719, -0.51540154,\n",
       "       -0.51373498, -0.9825343 ,  0.7583512 , -0.63690806, -0.84274716,\n",
       "       -0.61851037, -0.1017258 , -0.1923095 ,  0.0103985 , -0.85350777,\n",
       "        0.49390713,  0.02068952,  0.92279566, -0.43635775, -0.91128306,\n",
       "        0.63529703,  0.43831307, -0.17801074, -0.60984844,  0.90560172,\n",
       "        0.83768665, -0.24229046,  0.82493118, -0.60244259, -0.40825069,\n",
       "       -0.96804055,  0.68017128,  0.06249476,  0.72389045,  0.92841789,\n",
       "       -0.81324042,  0.05283648,  0.56793035,  0.64195387,  0.78635487,\n",
       "       -0.34985582,  0.54319833,  0.47644173,  0.34554128, -0.84979807,\n",
       "        0.86624542, -0.94988618,  0.54389851,  0.14829615,  0.43800019,\n",
       "       -0.21787316,  0.29035093,  0.57455548,  0.34401077, -0.10749547,\n",
       "        0.07363189,  0.25012991, -0.5910683 , -0.29224011, -0.27107017,\n",
       "        0.35497344,  0.98815671, -0.96658117, -0.54254867,  0.07035562,\n",
       "       -0.98768638,  0.66230829,  0.63866575, -0.43901689, -0.36105141,\n",
       "       -0.33296802,  0.00880717,  0.73540497, -0.60109201,  0.85582328])"
      ]
     },
     "execution_count": 114,
     "metadata": {},
     "output_type": "execute_result"
    }
   ],
   "source": [
    "Z = np.random.uniform(-1.0,1.0,100)\n",
    "np.negative(Z, out=Z)"
   ]
  },
  {
   "cell_type": "code",
   "execution_count": 117,
   "metadata": {},
   "outputs": [
    {
     "name": "stdout",
     "output_type": "stream",
     "text": [
      "[ 1.31761006  3.91192581 16.93427745  7.03345439 14.9799973   3.67878042\n",
      "  5.82963861 16.97108753  4.99441425 13.81515594]\n"
     ]
    }
   ],
   "source": [
    "def distance(P0, P1, p):\n",
    "    T = P1 - P0\n",
    "    L = (T**2).sum(axis=1)\n",
    "    U = -((P0[:,0]-p[...,0])*T[:,0] + (P0[:,1]-p[...,1])*T[:,1]) / L\n",
    "    U = U.reshape(len(U),1)\n",
    "    D = P0 + U*T - p\n",
    "    return np.sqrt((D**2).sum(axis=1))\n",
    "P0 = np.random.uniform(-10,10,(10,2))\n",
    "P1 = np.random.uniform(-10,10,(10,2))\n",
    "p  = np.random.uniform(-10,10,( 1,2))\n",
    "print (distance(P0, P1, p))"
   ]
  },
  {
   "cell_type": "code",
   "execution_count": 118,
   "metadata": {},
   "outputs": [
    {
     "name": "stdout",
     "output_type": "stream",
     "text": [
      "[[ 6.23867617  5.97778167  6.94304533 13.26211682 14.33872926  4.63796645\n",
      "   5.95131114  0.5710609   4.26350087 14.32395197]\n",
      " [ 2.35250059 11.00602948  5.79809848 13.92213937 12.67495412  0.05601597\n",
      "   1.98456975  5.74176939  9.58225224 17.85867825]\n",
      " [ 4.62495559 11.61907377  8.07421326  1.802286    0.32840824  3.11444263\n",
      "   4.67067327  2.6556785   6.07395399  3.2716043 ]\n",
      " [ 5.37381362  2.68275425  0.48984545  4.53915643  8.71450665  6.40984797\n",
      "   5.31341271  7.55287887  1.4023201   4.12993936]\n",
      " [ 8.06640756 15.86131603  9.383849    1.64095821  2.05244141  7.13688734\n",
      "   8.17178788  1.48083084 10.45726493  5.87795949]\n",
      " [ 3.58266945 15.66933648  0.18584508  8.86945271  6.54395967  5.30040123\n",
      "   3.90631019  7.3014228  13.02510836 15.75408449]\n",
      " [ 5.15053882 14.26306934  5.47119913  2.23345441  1.78422526  5.00243624\n",
      "   5.31611363  2.17022644  9.840845    8.63529978]\n",
      " [ 9.76405355  2.36971938  9.32043359 14.57909693 16.98279485  8.2878357\n",
      "   9.49688185  2.11643128  0.9179174  13.48901717]\n",
      " [ 0.33751323 13.3988909   3.47817978 12.19333203 10.22862796  2.61115766\n",
      "   0.70086591  7.03550674 11.57606706 17.59960422]\n",
      " [ 3.71952493 14.15456654  2.60192103  5.49301057  4.47160366  4.38617255\n",
      "   3.95213855  3.92866497 10.58709773 11.66983338]]\n"
     ]
    }
   ],
   "source": [
    "P0 = np.random.uniform(-10, 10, (10,2))\n",
    "P1 = np.random.uniform(-10,10,(10,2))\n",
    "p = np.random.uniform(-10, 10, (10,2))\n",
    "print (np.array([distance(P0,P1,p_i) for p_i in p]))"
   ]
  },
  {
   "cell_type": "code",
   "execution_count": 119,
   "metadata": {},
   "outputs": [
    {
     "name": "stdout",
     "output_type": "stream",
     "text": [
      "[[7 1 1 7 2 1 4 4 2 5]\n",
      " [8 7 6 4 4 5 9 2 4 4]\n",
      " [3 1 6 9 9 2 0 4 1 8]\n",
      " [3 3 2 2 9 6 3 7 6 6]\n",
      " [0 4 9 5 2 3 6 7 5 8]\n",
      " [5 9 0 2 6 3 8 5 8 6]\n",
      " [9 3 3 2 2 6 5 9 0 2]\n",
      " [8 6 9 3 6 5 8 9 0 6]\n",
      " [3 9 7 6 4 9 3 4 5 3]\n",
      " [8 4 5 8 6 1 8 6 2 0]]\n",
      "[[0 0 0 0 0]\n",
      " [0 7 1 1 7]\n",
      " [0 8 7 6 4]\n",
      " [0 3 1 6 9]\n",
      " [0 3 3 2 2]]\n"
     ]
    },
    {
     "name": "stderr",
     "output_type": "stream",
     "text": [
      "C:\\ProgramData\\Anaconda3\\lib\\site-packages\\ipykernel_launcher.py:19: FutureWarning: Using a non-tuple sequence for multidimensional indexing is deprecated; use `arr[tuple(seq)]` instead of `arr[seq]`. In the future this will be interpreted as an array index, `arr[np.array(seq)]`, which will result either in an error or a different result.\n"
     ]
    }
   ],
   "source": [
    "Z = np.random.randint(0,10,(10,10))\n",
    "shape = (5,5)\n",
    "fill  = 0\n",
    "position = (1,1)\n",
    "R = np.ones(shape, dtype=Z.dtype)*fill\n",
    "P  = np.array(list(position)).astype(int)\n",
    "Rs = np.array(list(R.shape)).astype(int)\n",
    "Zs = np.array(list(Z.shape)).astype(int)\n",
    "R_start = np.zeros((len(shape),)).astype(int)\n",
    "R_stop  = np.array(list(shape)).astype(int)\n",
    "Z_start = (P-Rs//2)\n",
    "Z_stop  = (P+Rs//2)+Rs%2\n",
    "R_start = (R_start - np.minimum(Z_start,0)).tolist()\n",
    "Z_start = (np.maximum(Z_start,0)).tolist()\n",
    "R_stop = np.maximum(R_start, (R_stop - np.maximum(Z_stop-Zs,0))).tolist()\n",
    "Z_stop = (np.minimum(Z_stop,Zs)).tolist()\n",
    "r = [slice(start,stop) for start,stop in zip(R_start,R_stop)]\n",
    "z = [slice(start,stop) for start,stop in zip(Z_start,Z_stop)]\n",
    "R[r] = Z[z]\n",
    "print (Z)\n",
    "print (R)"
   ]
  },
  {
   "cell_type": "code",
   "execution_count": 120,
   "metadata": {},
   "outputs": [
    {
     "name": "stdout",
     "output_type": "stream",
     "text": [
      "[[ 1  2  3  4]\n",
      " [ 2  3  4  5]\n",
      " [ 3  4  5  6]\n",
      " [ 4  5  6  7]\n",
      " [ 5  6  7  8]\n",
      " [ 6  7  8  9]\n",
      " [ 7  8  9 10]\n",
      " [ 8  9 10 11]\n",
      " [ 9 10 11 12]\n",
      " [10 11 12 13]\n",
      " [11 12 13 14]]\n"
     ]
    }
   ],
   "source": [
    "Z = np.arange(1,15,dtype=np.uint32)\n",
    "R = stride_tricks.as_strided(Z,(11,4),(4,4))\n",
    "print (R)"
   ]
  },
  {
   "cell_type": "code",
   "execution_count": 121,
   "metadata": {},
   "outputs": [
    {
     "name": "stdout",
     "output_type": "stream",
     "text": [
      "10\n"
     ]
    }
   ],
   "source": [
    "Z = np.random.uniform(0,1,(10,10))\n",
    "U, S, V = np.linalg.svd(Z)\n",
    "rank = np.sum(S > 1e-10)#it will convert the matrix into a bool matrix\n",
    "print (rank)"
   ]
  },
  {
   "cell_type": "code",
   "execution_count": 122,
   "metadata": {},
   "outputs": [
    {
     "name": "stdout",
     "output_type": "stream",
     "text": [
      "6\n"
     ]
    }
   ],
   "source": [
    "Z = np.random.randint(0,10,50)\n",
    "print (np.bincount(Z).argmax())"
   ]
  },
  {
   "cell_type": "code",
   "execution_count": 123,
   "metadata": {},
   "outputs": [
    {
     "name": "stdout",
     "output_type": "stream",
     "text": [
      "[[[[0 1 0]\n",
      "   [1 4 4]\n",
      "   [3 1 4]]\n",
      "\n",
      "  [[1 0 0]\n",
      "   [4 4 3]\n",
      "   [1 4 0]]\n",
      "\n",
      "  [[0 0 4]\n",
      "   [4 3 3]\n",
      "   [4 0 0]]\n",
      "\n",
      "  [[0 4 0]\n",
      "   [3 3 1]\n",
      "   [0 0 2]]\n",
      "\n",
      "  [[4 0 4]\n",
      "   [3 1 0]\n",
      "   [0 2 0]]\n",
      "\n",
      "  [[0 4 0]\n",
      "   [1 0 1]\n",
      "   [2 0 1]]\n",
      "\n",
      "  [[4 0 0]\n",
      "   [0 1 3]\n",
      "   [0 1 4]]\n",
      "\n",
      "  [[0 0 4]\n",
      "   [1 3 4]\n",
      "   [1 4 1]]]\n",
      "\n",
      "\n",
      " [[[1 4 4]\n",
      "   [3 1 4]\n",
      "   [3 0 0]]\n",
      "\n",
      "  [[4 4 3]\n",
      "   [1 4 0]\n",
      "   [0 0 2]]\n",
      "\n",
      "  [[4 3 3]\n",
      "   [4 0 0]\n",
      "   [0 2 0]]\n",
      "\n",
      "  [[3 3 1]\n",
      "   [0 0 2]\n",
      "   [2 0 0]]\n",
      "\n",
      "  [[3 1 0]\n",
      "   [0 2 0]\n",
      "   [0 0 3]]\n",
      "\n",
      "  [[1 0 1]\n",
      "   [2 0 1]\n",
      "   [0 3 0]]\n",
      "\n",
      "  [[0 1 3]\n",
      "   [0 1 4]\n",
      "   [3 0 1]]\n",
      "\n",
      "  [[1 3 4]\n",
      "   [1 4 1]\n",
      "   [0 1 0]]]\n",
      "\n",
      "\n",
      " [[[3 1 4]\n",
      "   [3 0 0]\n",
      "   [3 4 3]]\n",
      "\n",
      "  [[1 4 0]\n",
      "   [0 0 2]\n",
      "   [4 3 0]]\n",
      "\n",
      "  [[4 0 0]\n",
      "   [0 2 0]\n",
      "   [3 0 4]]\n",
      "\n",
      "  [[0 0 2]\n",
      "   [2 0 0]\n",
      "   [0 4 3]]\n",
      "\n",
      "  [[0 2 0]\n",
      "   [0 0 3]\n",
      "   [4 3 4]]\n",
      "\n",
      "  [[2 0 1]\n",
      "   [0 3 0]\n",
      "   [3 4 0]]\n",
      "\n",
      "  [[0 1 4]\n",
      "   [3 0 1]\n",
      "   [4 0 3]]\n",
      "\n",
      "  [[1 4 1]\n",
      "   [0 1 0]\n",
      "   [0 3 1]]]\n",
      "\n",
      "\n",
      " [[[3 0 0]\n",
      "   [3 4 3]\n",
      "   [4 2 2]]\n",
      "\n",
      "  [[0 0 2]\n",
      "   [4 3 0]\n",
      "   [2 2 1]]\n",
      "\n",
      "  [[0 2 0]\n",
      "   [3 0 4]\n",
      "   [2 1 3]]\n",
      "\n",
      "  [[2 0 0]\n",
      "   [0 4 3]\n",
      "   [1 3 3]]\n",
      "\n",
      "  [[0 0 3]\n",
      "   [4 3 4]\n",
      "   [3 3 2]]\n",
      "\n",
      "  [[0 3 0]\n",
      "   [3 4 0]\n",
      "   [3 2 3]]\n",
      "\n",
      "  [[3 0 1]\n",
      "   [4 0 3]\n",
      "   [2 3 2]]\n",
      "\n",
      "  [[0 1 0]\n",
      "   [0 3 1]\n",
      "   [3 2 3]]]\n",
      "\n",
      "\n",
      " [[[3 4 3]\n",
      "   [4 2 2]\n",
      "   [2 3 3]]\n",
      "\n",
      "  [[4 3 0]\n",
      "   [2 2 1]\n",
      "   [3 3 1]]\n",
      "\n",
      "  [[3 0 4]\n",
      "   [2 1 3]\n",
      "   [3 1 0]]\n",
      "\n",
      "  [[0 4 3]\n",
      "   [1 3 3]\n",
      "   [1 0 1]]\n",
      "\n",
      "  [[4 3 4]\n",
      "   [3 3 2]\n",
      "   [0 1 0]]\n",
      "\n",
      "  [[3 4 0]\n",
      "   [3 2 3]\n",
      "   [1 0 4]]\n",
      "\n",
      "  [[4 0 3]\n",
      "   [2 3 2]\n",
      "   [0 4 2]]\n",
      "\n",
      "  [[0 3 1]\n",
      "   [3 2 3]\n",
      "   [4 2 2]]]\n",
      "\n",
      "\n",
      " [[[4 2 2]\n",
      "   [2 3 3]\n",
      "   [0 4 3]]\n",
      "\n",
      "  [[2 2 1]\n",
      "   [3 3 1]\n",
      "   [4 3 3]]\n",
      "\n",
      "  [[2 1 3]\n",
      "   [3 1 0]\n",
      "   [3 3 0]]\n",
      "\n",
      "  [[1 3 3]\n",
      "   [1 0 1]\n",
      "   [3 0 2]]\n",
      "\n",
      "  [[3 3 2]\n",
      "   [0 1 0]\n",
      "   [0 2 1]]\n",
      "\n",
      "  [[3 2 3]\n",
      "   [1 0 4]\n",
      "   [2 1 0]]\n",
      "\n",
      "  [[2 3 2]\n",
      "   [0 4 2]\n",
      "   [1 0 0]]\n",
      "\n",
      "  [[3 2 3]\n",
      "   [4 2 2]\n",
      "   [0 0 4]]]\n",
      "\n",
      "\n",
      " [[[2 3 3]\n",
      "   [0 4 3]\n",
      "   [1 0 1]]\n",
      "\n",
      "  [[3 3 1]\n",
      "   [4 3 3]\n",
      "   [0 1 1]]\n",
      "\n",
      "  [[3 1 0]\n",
      "   [3 3 0]\n",
      "   [1 1 4]]\n",
      "\n",
      "  [[1 0 1]\n",
      "   [3 0 2]\n",
      "   [1 4 2]]\n",
      "\n",
      "  [[0 1 0]\n",
      "   [0 2 1]\n",
      "   [4 2 2]]\n",
      "\n",
      "  [[1 0 4]\n",
      "   [2 1 0]\n",
      "   [2 2 4]]\n",
      "\n",
      "  [[0 4 2]\n",
      "   [1 0 0]\n",
      "   [2 4 2]]\n",
      "\n",
      "  [[4 2 2]\n",
      "   [0 0 4]\n",
      "   [4 2 4]]]\n",
      "\n",
      "\n",
      " [[[0 4 3]\n",
      "   [1 0 1]\n",
      "   [1 2 2]]\n",
      "\n",
      "  [[4 3 3]\n",
      "   [0 1 1]\n",
      "   [2 2 2]]\n",
      "\n",
      "  [[3 3 0]\n",
      "   [1 1 4]\n",
      "   [2 2 2]]\n",
      "\n",
      "  [[3 0 2]\n",
      "   [1 4 2]\n",
      "   [2 2 2]]\n",
      "\n",
      "  [[0 2 1]\n",
      "   [4 2 2]\n",
      "   [2 2 1]]\n",
      "\n",
      "  [[2 1 0]\n",
      "   [2 2 4]\n",
      "   [2 1 1]]\n",
      "\n",
      "  [[1 0 0]\n",
      "   [2 4 2]\n",
      "   [1 1 1]]\n",
      "\n",
      "  [[0 0 4]\n",
      "   [4 2 4]\n",
      "   [1 1 3]]]]\n"
     ]
    }
   ],
   "source": [
    "Z = np.random.randint(0,5,(10,10))\n",
    "n = 3\n",
    "i = 1 + (Z.shape[0]-3)\n",
    "j = 1 + (Z.shape[1]-3)\n",
    "C = stride_tricks.as_strided(Z, shape=(i, j, n, n), strides=Z.strides + Z.strides)\n",
    "print (C)"
   ]
  },
  {
   "cell_type": "code",
   "execution_count": 124,
   "metadata": {},
   "outputs": [
    {
     "name": "stdout",
     "output_type": "stream",
     "text": [
      "[[ 6 17  7  6  8]\n",
      " [17  3  8 10 12]\n",
      " [ 7  8  9 42  3]\n",
      " [ 6 10 42  7  9]\n",
      " [ 8 12  3  9  7]]\n"
     ]
    }
   ],
   "source": [
    "class Symetric(np.ndarray):\n",
    "    def __setitem__(self, index, value):\n",
    "        i,j = index\n",
    "        super(Symetric, self).__setitem__((i,j), value)\n",
    "        super(Symetric, self).__setitem__((j,i), value)\n",
    "        \n",
    "def symetric(Z):\n",
    "    return np.asarray(Z + Z.T - np.diag(Z.diagonal())).view(Symetric)\n",
    "S = symetric(np.random.randint(0,10,(5,5)))\n",
    "S[2,3] = 42\n",
    "print (S)"
   ]
  },
  {
   "cell_type": "code",
   "execution_count": 125,
   "metadata": {},
   "outputs": [
    {
     "name": "stdout",
     "output_type": "stream",
     "text": [
      "[[200.]\n",
      " [200.]\n",
      " [200.]\n",
      " [200.]\n",
      " [200.]\n",
      " [200.]\n",
      " [200.]\n",
      " [200.]\n",
      " [200.]\n",
      " [200.]\n",
      " [200.]\n",
      " [200.]\n",
      " [200.]\n",
      " [200.]\n",
      " [200.]\n",
      " [200.]\n",
      " [200.]\n",
      " [200.]\n",
      " [200.]\n",
      " [200.]]\n"
     ]
    }
   ],
   "source": [
    "p, n = 10, 20\n",
    "M = np.ones((p,n,n))\n",
    "V = np.ones((p,n,1))\n",
    "S = np.tensordot(M, V, axes=[[0, 2], [0, 1]])#the axes[0,2] of M and [0,1] of V is using to index and the indexed result is going to be put in (n,1)\n",
    "print (S)"
   ]
  },
  {
   "cell_type": "code",
   "execution_count": 127,
   "metadata": {},
   "outputs": [
    {
     "name": "stdout",
     "output_type": "stream",
     "text": [
      "[[16. 16. 16. 16.]\n",
      " [16. 16. 16. 16.]\n",
      " [16. 16. 16. 16.]\n",
      " [16. 16. 16. 16.]]\n"
     ]
    }
   ],
   "source": [
    "Z = np.ones((16,16))\n",
    "k = 4\n",
    "S = np.add.reduceat(np.add.reduceat(Z, np.arange(0, Z.shape[0], k), axis=0),\n",
    "                                        np.arange(0, Z.shape[1], k), axis=1)\n",
    "print (S)"
   ]
  },
  {
   "cell_type": "code",
   "execution_count": 128,
   "metadata": {},
   "outputs": [
    {
     "name": "stdout",
     "output_type": "stream",
     "text": [
      "[9995 9996 9997 9998 9999]\n"
     ]
    }
   ],
   "source": [
    "Z = np.arange(10000)\n",
    "np.random.shuffle(Z)\n",
    "n = 5\n",
    "print (Z[np.argsort(Z)[-n:]])"
   ]
  },
  {
   "cell_type": "code",
   "execution_count": 129,
   "metadata": {},
   "outputs": [
    {
     "name": "stdout",
     "output_type": "stream",
     "text": [
      "[[1 4 6]\n",
      " [1 4 7]\n",
      " [1 5 6]\n",
      " [1 5 7]\n",
      " [2 4 6]\n",
      " [2 4 7]\n",
      " [2 5 6]\n",
      " [2 5 7]\n",
      " [3 4 6]\n",
      " [3 4 7]\n",
      " [3 5 6]\n",
      " [3 5 7]]\n"
     ]
    }
   ],
   "source": [
    "def cartesian(arrays):\n",
    "    arrays = [np.asarray(a) for a in arrays]\n",
    "    shape = (len(x) for x in arrays)\n",
    "    ix = np.indices(shape, dtype=int)\n",
    "    ix = ix.reshape(len(arrays), -1).T\n",
    "    for n, arr in enumerate(arrays):\n",
    "        ix[:, n] = arrays[n][ix[:, n]]\n",
    "    return ix\n",
    "print (cartesian(([1, 2, 3], [4, 5], [6, 7])))"
   ]
  },
  {
   "cell_type": "code",
   "execution_count": 131,
   "metadata": {},
   "outputs": [
    {
     "name": "stdout",
     "output_type": "stream",
     "text": [
      "[(b'Hello', 2.5, 3) (b'World', 3.6, 2)]\n"
     ]
    }
   ],
   "source": [
    "Z = np.array([(\"Hello\", 2.5, 3),\n",
    "               (\"World\", 3.6, 2)])\n",
    "R = np.core.records.fromarrays(Z.T, \n",
    "                                names='col1, col2, col3',\n",
    "                                formats = 'S8, f8, i8')\n",
    "print (R)"
   ]
  },
  {
   "cell_type": "code",
   "execution_count": 147,
   "metadata": {},
   "outputs": [
    {
     "data": {
      "text/plain": [
       "array([1.76001807e-01, 2.16344922e-01, 4.04060563e-03, 8.25562472e-01,\n",
       "       1.81645227e-01, 3.18365522e-01, 3.83564962e-02, 6.02851023e-03,\n",
       "       1.72617935e-01, 8.86654518e-01, 2.34203615e-03, 4.12758842e-01,\n",
       "       5.22848620e-02, 8.18756782e-04, 3.53314771e-01, 4.09907885e-04,\n",
       "       1.58680271e-03, 1.00767135e-01, 2.80641210e-01, 7.20789667e-01,\n",
       "       8.87153978e-03, 4.88833352e-01, 7.59479493e-01, 6.34170218e-01,\n",
       "       9.17380789e-02, 1.68208084e-02, 6.56379169e-10, 5.26837626e-02,\n",
       "       7.19103053e-01, 4.50066477e-01, 6.83811654e-01, 2.16082472e-01,\n",
       "       1.05012744e-01, 3.42262270e-02, 6.26792867e-02, 4.13548594e-01,\n",
       "       2.06882458e-01, 6.49788571e-01, 1.93840600e-01, 9.40749090e-01,\n",
       "       8.45815991e-01, 1.00274767e-01, 1.58231163e-01, 1.69546400e-02,\n",
       "       3.54445540e-01, 5.79547614e-01, 2.08799779e-01, 1.12344977e-01,\n",
       "       1.50760799e-02, 6.31585448e-02, 6.53119554e-02, 1.64153336e-02,\n",
       "       2.64875010e-01, 1.24191699e-01, 1.10550432e-01, 7.51297658e-01,\n",
       "       2.70407785e-01, 4.79515800e-01, 2.84518779e-02, 2.86315231e-01,\n",
       "       8.13015235e-01, 1.61446702e-01, 5.46433914e-01, 1.02727933e-01,\n",
       "       5.21584329e-01, 4.26592170e-01, 2.26928343e-01, 3.41986993e-03,\n",
       "       2.28409019e-02, 4.38170611e-03, 1.60904483e-01, 8.85444679e-07,\n",
       "       2.51849985e-06, 1.20879646e-01, 7.41123223e-01, 3.89152044e-03,\n",
       "       8.45265885e-01, 1.39166217e-01, 2.31206048e-03, 2.58549796e-01,\n",
       "       8.23881380e-02, 9.85899008e-01, 2.52000437e-02, 3.75213665e-01,\n",
       "       1.35869745e-02, 2.07361228e-02, 4.03469508e-04, 5.79741490e-03,\n",
       "       1.87554930e-01, 9.33979763e-01, 1.35604148e-01, 1.65470527e-01,\n",
       "       9.24497053e-01, 2.49184922e-01, 4.34550650e-02, 6.18453226e-01,\n",
       "       3.31084728e-01, 1.25089855e-07, 3.21214882e-01, 1.84417492e-03])"
      ]
     },
     "execution_count": 147,
     "metadata": {},
     "output_type": "execute_result"
    }
   ],
   "source": [
    "x = np.random.rand(100)\n",
    "np.power(x,3)"
   ]
  },
  {
   "cell_type": "code",
   "execution_count": 148,
   "metadata": {},
   "outputs": [
    {
     "data": {
      "text/plain": [
       "array([1.76001807e-01, 2.16344922e-01, 4.04060563e-03, 8.25562472e-01,\n",
       "       1.81645227e-01, 3.18365522e-01, 3.83564962e-02, 6.02851023e-03,\n",
       "       1.72617935e-01, 8.86654518e-01, 2.34203615e-03, 4.12758842e-01,\n",
       "       5.22848620e-02, 8.18756782e-04, 3.53314771e-01, 4.09907885e-04,\n",
       "       1.58680271e-03, 1.00767135e-01, 2.80641210e-01, 7.20789667e-01,\n",
       "       8.87153978e-03, 4.88833352e-01, 7.59479493e-01, 6.34170218e-01,\n",
       "       9.17380789e-02, 1.68208084e-02, 6.56379169e-10, 5.26837626e-02,\n",
       "       7.19103053e-01, 4.50066477e-01, 6.83811654e-01, 2.16082472e-01,\n",
       "       1.05012744e-01, 3.42262270e-02, 6.26792867e-02, 4.13548594e-01,\n",
       "       2.06882458e-01, 6.49788571e-01, 1.93840600e-01, 9.40749090e-01,\n",
       "       8.45815991e-01, 1.00274767e-01, 1.58231163e-01, 1.69546400e-02,\n",
       "       3.54445540e-01, 5.79547614e-01, 2.08799779e-01, 1.12344977e-01,\n",
       "       1.50760799e-02, 6.31585448e-02, 6.53119554e-02, 1.64153336e-02,\n",
       "       2.64875010e-01, 1.24191699e-01, 1.10550432e-01, 7.51297658e-01,\n",
       "       2.70407785e-01, 4.79515800e-01, 2.84518779e-02, 2.86315231e-01,\n",
       "       8.13015235e-01, 1.61446702e-01, 5.46433914e-01, 1.02727933e-01,\n",
       "       5.21584329e-01, 4.26592170e-01, 2.26928343e-01, 3.41986993e-03,\n",
       "       2.28409019e-02, 4.38170611e-03, 1.60904483e-01, 8.85444679e-07,\n",
       "       2.51849985e-06, 1.20879646e-01, 7.41123223e-01, 3.89152044e-03,\n",
       "       8.45265885e-01, 1.39166217e-01, 2.31206048e-03, 2.58549796e-01,\n",
       "       8.23881380e-02, 9.85899008e-01, 2.52000437e-02, 3.75213665e-01,\n",
       "       1.35869745e-02, 2.07361228e-02, 4.03469508e-04, 5.79741490e-03,\n",
       "       1.87554930e-01, 9.33979763e-01, 1.35604148e-01, 1.65470527e-01,\n",
       "       9.24497053e-01, 2.49184922e-01, 4.34550650e-02, 6.18453226e-01,\n",
       "       3.31084728e-01, 1.25089855e-07, 3.21214882e-01, 1.84417492e-03])"
      ]
     },
     "execution_count": 148,
     "metadata": {},
     "output_type": "execute_result"
    }
   ],
   "source": [
    "x*x*x"
   ]
  },
  {
   "cell_type": "code",
   "execution_count": 149,
   "metadata": {},
   "outputs": [
    {
     "data": {
      "text/plain": [
       "array([1.76001807e-01, 2.16344922e-01, 4.04060563e-03, 8.25562472e-01,\n",
       "       1.81645227e-01, 3.18365522e-01, 3.83564962e-02, 6.02851023e-03,\n",
       "       1.72617935e-01, 8.86654518e-01, 2.34203615e-03, 4.12758842e-01,\n",
       "       5.22848620e-02, 8.18756782e-04, 3.53314771e-01, 4.09907885e-04,\n",
       "       1.58680271e-03, 1.00767135e-01, 2.80641210e-01, 7.20789667e-01,\n",
       "       8.87153978e-03, 4.88833352e-01, 7.59479493e-01, 6.34170218e-01,\n",
       "       9.17380789e-02, 1.68208084e-02, 6.56379169e-10, 5.26837626e-02,\n",
       "       7.19103053e-01, 4.50066477e-01, 6.83811654e-01, 2.16082472e-01,\n",
       "       1.05012744e-01, 3.42262270e-02, 6.26792867e-02, 4.13548594e-01,\n",
       "       2.06882458e-01, 6.49788571e-01, 1.93840600e-01, 9.40749090e-01,\n",
       "       8.45815991e-01, 1.00274767e-01, 1.58231163e-01, 1.69546400e-02,\n",
       "       3.54445540e-01, 5.79547614e-01, 2.08799779e-01, 1.12344977e-01,\n",
       "       1.50760799e-02, 6.31585448e-02, 6.53119554e-02, 1.64153336e-02,\n",
       "       2.64875010e-01, 1.24191699e-01, 1.10550432e-01, 7.51297658e-01,\n",
       "       2.70407785e-01, 4.79515800e-01, 2.84518779e-02, 2.86315231e-01,\n",
       "       8.13015235e-01, 1.61446702e-01, 5.46433914e-01, 1.02727933e-01,\n",
       "       5.21584329e-01, 4.26592170e-01, 2.26928343e-01, 3.41986993e-03,\n",
       "       2.28409019e-02, 4.38170611e-03, 1.60904483e-01, 8.85444679e-07,\n",
       "       2.51849985e-06, 1.20879646e-01, 7.41123223e-01, 3.89152044e-03,\n",
       "       8.45265885e-01, 1.39166217e-01, 2.31206048e-03, 2.58549796e-01,\n",
       "       8.23881380e-02, 9.85899008e-01, 2.52000437e-02, 3.75213665e-01,\n",
       "       1.35869745e-02, 2.07361228e-02, 4.03469508e-04, 5.79741490e-03,\n",
       "       1.87554930e-01, 9.33979763e-01, 1.35604148e-01, 1.65470527e-01,\n",
       "       9.24497053e-01, 2.49184922e-01, 4.34550650e-02, 6.18453226e-01,\n",
       "       3.31084728e-01, 1.25089855e-07, 3.21214882e-01, 1.84417492e-03])"
      ]
     },
     "execution_count": 149,
     "metadata": {},
     "output_type": "execute_result"
    }
   ],
   "source": [
    "np.einsum('i,i,i->i',x,x,x)"
   ]
  },
  {
   "cell_type": "code",
   "execution_count": 139,
   "metadata": {},
   "outputs": [
    {
     "name": "stdout",
     "output_type": "stream",
     "text": [
      "[0 2 4 5 7]\n"
     ]
    }
   ],
   "source": [
    "A = np.random.randint(0,5,(8,3))\n",
    "B = np.random.randint(0,5,(2,2))\n",
    "C = (A[..., np.newaxis, np.newaxis] == B)\n",
    "rows = np.where(C.any((3,1)).all(1))[0]\n",
    "print (rows)"
   ]
  },
  {
   "cell_type": "code",
   "execution_count": 140,
   "metadata": {},
   "outputs": [
    {
     "name": "stdout",
     "output_type": "stream",
     "text": [
      "[[1 0 0]\n",
      " [1 0 4]\n",
      " [4 4 2]\n",
      " [4 2 1]\n",
      " [1 0 4]\n",
      " [1 3 4]\n",
      " [3 2 4]\n",
      " [1 1 1]\n",
      " [4 0 4]\n",
      " [4 0 1]]\n",
      "[[1 0 0]\n",
      " [1 0 4]\n",
      " [4 4 2]\n",
      " [4 2 1]\n",
      " [1 0 4]\n",
      " [1 3 4]\n",
      " [3 2 4]\n",
      " [4 0 4]\n",
      " [4 0 1]]\n"
     ]
    }
   ],
   "source": [
    "Z = np.random.randint(0,5,(10,3))\n",
    "print (Z)\n",
    "E = np.all(Z[:,1:] == Z[:,:-1], axis=1)\n",
    "U = Z[~E]\n",
    "print (U)"
   ]
  },
  {
   "cell_type": "code",
   "execution_count": 141,
   "metadata": {},
   "outputs": [
    {
     "name": "stdout",
     "output_type": "stream",
     "text": [
      "[[[[0 0 0]\n",
      "   [0 0 0]\n",
      "   [0 0 0]\n",
      "   [0 0 0]\n",
      "   [0 0 0]\n",
      "   [0 0 0]\n",
      "   [0 0 0]\n",
      "   [0 0 0]\n",
      "   [0 0 0]\n",
      "   [0 0 0]\n",
      "   [0 0 0]\n",
      "   [0 0 0]\n",
      "   [0 0 0]\n",
      "   [0 0 0]\n",
      "   [0 0 0]\n",
      "   [0 0 0]]\n",
      "\n",
      "  [[0 0 0]\n",
      "   [0 0 0]\n",
      "   [0 0 0]\n",
      "   [0 0 0]\n",
      "   [0 0 0]\n",
      "   [0 0 0]\n",
      "   [0 0 0]\n",
      "   [0 0 0]\n",
      "   [0 0 0]\n",
      "   [0 0 0]\n",
      "   [0 0 0]\n",
      "   [0 0 0]\n",
      "   [0 0 0]\n",
      "   [0 0 0]\n",
      "   [0 0 0]\n",
      "   [0 0 0]]\n",
      "\n",
      "  [[0 0 0]\n",
      "   [0 0 0]\n",
      "   [0 0 0]\n",
      "   [0 0 0]\n",
      "   [0 0 0]\n",
      "   [0 0 0]\n",
      "   [0 0 0]\n",
      "   [0 0 0]\n",
      "   [0 0 0]\n",
      "   [0 0 0]\n",
      "   [0 0 0]\n",
      "   [0 0 0]\n",
      "   [0 0 0]\n",
      "   [0 0 0]\n",
      "   [0 0 0]\n",
      "   [0 0 0]]\n",
      "\n",
      "  [[0 0 0]\n",
      "   [0 0 0]\n",
      "   [0 0 0]\n",
      "   [0 0 0]\n",
      "   [0 0 0]\n",
      "   [0 0 0]\n",
      "   [0 0 0]\n",
      "   [0 0 0]\n",
      "   [0 0 0]\n",
      "   [0 0 0]\n",
      "   [0 0 0]\n",
      "   [0 0 0]\n",
      "   [0 0 0]\n",
      "   [0 0 0]\n",
      "   [0 0 0]\n",
      "   [0 0 0]]\n",
      "\n",
      "  [[0 0 0]\n",
      "   [0 0 0]\n",
      "   [0 0 0]\n",
      "   [0 0 0]\n",
      "   [0 0 0]\n",
      "   [0 0 0]\n",
      "   [0 0 0]\n",
      "   [0 0 0]\n",
      "   [0 0 0]\n",
      "   [0 0 0]\n",
      "   [0 0 0]\n",
      "   [0 0 0]\n",
      "   [0 0 0]\n",
      "   [0 0 0]\n",
      "   [0 0 0]\n",
      "   [0 0 0]]\n",
      "\n",
      "  [[0 0 0]\n",
      "   [0 0 0]\n",
      "   [0 0 0]\n",
      "   [0 0 0]\n",
      "   [0 0 0]\n",
      "   [0 0 0]\n",
      "   [0 0 0]\n",
      "   [0 0 0]\n",
      "   [0 0 0]\n",
      "   [0 0 0]\n",
      "   [0 0 0]\n",
      "   [0 0 0]\n",
      "   [0 0 0]\n",
      "   [0 0 0]\n",
      "   [0 0 0]\n",
      "   [0 0 0]]\n",
      "\n",
      "  [[0 0 0]\n",
      "   [0 0 0]\n",
      "   [0 0 0]\n",
      "   [0 0 0]\n",
      "   [0 0 0]\n",
      "   [0 0 0]\n",
      "   [0 0 0]\n",
      "   [0 0 0]\n",
      "   [0 0 0]\n",
      "   [0 0 0]\n",
      "   [0 0 0]\n",
      "   [0 0 0]\n",
      "   [0 0 0]\n",
      "   [0 0 0]\n",
      "   [0 0 0]\n",
      "   [0 0 0]]\n",
      "\n",
      "  [[0 1 1]\n",
      "   [1 0 0]\n",
      "   [1 0 1]\n",
      "   [0 1 0]\n",
      "   [1 0 0]\n",
      "   [1 0 1]\n",
      "   [1 0 0]\n",
      "   [0 0 1]\n",
      "   [0 0 1]\n",
      "   [0 1 0]\n",
      "   [0 0 1]\n",
      "   [0 0 0]\n",
      "   [0 0 0]\n",
      "   [1 1 1]\n",
      "   [1 0 0]\n",
      "   [1 0 0]]]\n",
      "\n",
      "\n",
      " [[[0 0 0]\n",
      "   [0 0 0]\n",
      "   [0 0 0]\n",
      "   [0 0 0]\n",
      "   [0 0 0]\n",
      "   [0 0 0]\n",
      "   [0 0 0]\n",
      "   [0 0 0]\n",
      "   [0 0 0]\n",
      "   [0 0 0]\n",
      "   [0 0 0]\n",
      "   [0 0 0]\n",
      "   [0 0 0]\n",
      "   [0 0 0]\n",
      "   [0 0 0]\n",
      "   [0 0 0]]\n",
      "\n",
      "  [[0 0 0]\n",
      "   [0 0 0]\n",
      "   [0 0 0]\n",
      "   [0 0 0]\n",
      "   [0 0 0]\n",
      "   [0 0 0]\n",
      "   [0 0 0]\n",
      "   [0 0 0]\n",
      "   [0 0 0]\n",
      "   [0 0 0]\n",
      "   [0 0 0]\n",
      "   [0 0 0]\n",
      "   [0 0 0]\n",
      "   [0 0 0]\n",
      "   [0 0 0]\n",
      "   [0 0 0]]\n",
      "\n",
      "  [[0 0 0]\n",
      "   [0 0 0]\n",
      "   [0 0 0]\n",
      "   [0 0 0]\n",
      "   [0 0 0]\n",
      "   [0 0 0]\n",
      "   [0 0 0]\n",
      "   [0 0 0]\n",
      "   [0 0 0]\n",
      "   [0 0 0]\n",
      "   [0 0 0]\n",
      "   [0 0 0]\n",
      "   [0 0 0]\n",
      "   [0 0 0]\n",
      "   [0 0 0]\n",
      "   [0 0 0]]\n",
      "\n",
      "  [[0 0 0]\n",
      "   [0 0 0]\n",
      "   [0 0 0]\n",
      "   [0 0 0]\n",
      "   [0 0 0]\n",
      "   [0 0 0]\n",
      "   [0 0 0]\n",
      "   [0 0 0]\n",
      "   [0 0 0]\n",
      "   [0 0 0]\n",
      "   [0 0 0]\n",
      "   [0 0 0]\n",
      "   [0 0 0]\n",
      "   [0 0 0]\n",
      "   [0 0 0]\n",
      "   [0 0 0]]\n",
      "\n",
      "  [[0 0 0]\n",
      "   [0 0 0]\n",
      "   [0 0 0]\n",
      "   [0 0 0]\n",
      "   [0 0 0]\n",
      "   [0 0 0]\n",
      "   [0 0 0]\n",
      "   [0 0 0]\n",
      "   [0 0 0]\n",
      "   [0 0 0]\n",
      "   [0 0 0]\n",
      "   [0 0 0]\n",
      "   [0 0 0]\n",
      "   [0 0 0]\n",
      "   [0 0 0]\n",
      "   [0 0 0]]\n",
      "\n",
      "  [[0 0 0]\n",
      "   [0 0 0]\n",
      "   [0 0 0]\n",
      "   [0 0 0]\n",
      "   [0 0 0]\n",
      "   [0 0 0]\n",
      "   [0 0 0]\n",
      "   [0 0 0]\n",
      "   [0 0 0]\n",
      "   [0 0 0]\n",
      "   [0 0 0]\n",
      "   [0 0 0]\n",
      "   [0 0 0]\n",
      "   [0 0 0]\n",
      "   [0 0 0]\n",
      "   [0 0 0]]\n",
      "\n",
      "  [[0 0 0]\n",
      "   [0 0 0]\n",
      "   [0 0 0]\n",
      "   [0 0 0]\n",
      "   [0 0 0]\n",
      "   [0 0 0]\n",
      "   [0 0 0]\n",
      "   [0 0 0]\n",
      "   [0 0 0]\n",
      "   [0 0 0]\n",
      "   [0 0 0]\n",
      "   [0 0 0]\n",
      "   [0 0 0]\n",
      "   [0 0 0]\n",
      "   [0 0 0]\n",
      "   [0 0 0]]\n",
      "\n",
      "  [[0 0 0]\n",
      "   [1 1 1]\n",
      "   [1 1 0]\n",
      "   [0 1 0]\n",
      "   [0 0 1]\n",
      "   [1 0 0]\n",
      "   [0 0 1]\n",
      "   [1 0 0]\n",
      "   [0 0 0]\n",
      "   [1 0 1]\n",
      "   [0 1 0]\n",
      "   [1 0 1]\n",
      "   [0 0 0]\n",
      "   [0 0 1]\n",
      "   [0 0 1]\n",
      "   [1 0 1]]]\n",
      "\n",
      "\n",
      " [[[0 0 0]\n",
      "   [0 0 0]\n",
      "   [0 0 0]\n",
      "   [0 0 0]\n",
      "   [0 0 0]\n",
      "   [0 0 0]\n",
      "   [0 0 0]\n",
      "   [0 0 0]\n",
      "   [0 0 0]\n",
      "   [0 0 0]\n",
      "   [0 0 0]\n",
      "   [0 0 0]\n",
      "   [0 0 0]\n",
      "   [0 0 0]\n",
      "   [0 0 0]\n",
      "   [0 0 0]]\n",
      "\n",
      "  [[0 0 0]\n",
      "   [0 0 0]\n",
      "   [0 0 0]\n",
      "   [0 0 0]\n",
      "   [0 0 0]\n",
      "   [0 0 0]\n",
      "   [0 0 0]\n",
      "   [0 0 0]\n",
      "   [0 0 0]\n",
      "   [0 0 0]\n",
      "   [0 0 0]\n",
      "   [0 0 0]\n",
      "   [0 0 0]\n",
      "   [0 0 0]\n",
      "   [0 0 0]\n",
      "   [0 0 0]]\n",
      "\n",
      "  [[0 0 0]\n",
      "   [0 0 0]\n",
      "   [0 0 0]\n",
      "   [0 0 0]\n",
      "   [0 0 0]\n",
      "   [0 0 0]\n",
      "   [0 0 0]\n",
      "   [0 0 0]\n",
      "   [0 0 0]\n",
      "   [0 0 0]\n",
      "   [0 0 0]\n",
      "   [0 0 0]\n",
      "   [0 0 0]\n",
      "   [0 0 0]\n",
      "   [0 0 0]\n",
      "   [0 0 0]]\n",
      "\n",
      "  [[0 0 0]\n",
      "   [0 0 0]\n",
      "   [0 0 0]\n",
      "   [0 0 0]\n",
      "   [0 0 0]\n",
      "   [0 0 0]\n",
      "   [0 0 0]\n",
      "   [0 0 0]\n",
      "   [0 0 0]\n",
      "   [0 0 0]\n",
      "   [0 0 0]\n",
      "   [0 0 0]\n",
      "   [0 0 0]\n",
      "   [0 0 0]\n",
      "   [0 0 0]\n",
      "   [0 0 0]]\n",
      "\n",
      "  [[0 0 0]\n",
      "   [0 0 0]\n",
      "   [0 0 0]\n",
      "   [0 0 0]\n",
      "   [0 0 0]\n",
      "   [0 0 0]\n",
      "   [0 0 0]\n",
      "   [0 0 0]\n",
      "   [0 0 0]\n",
      "   [0 0 0]\n",
      "   [0 0 0]\n",
      "   [0 0 0]\n",
      "   [0 0 0]\n",
      "   [0 0 0]\n",
      "   [0 0 0]\n",
      "   [0 0 0]]\n",
      "\n",
      "  [[0 0 0]\n",
      "   [0 0 0]\n",
      "   [0 0 0]\n",
      "   [0 0 0]\n",
      "   [0 0 0]\n",
      "   [0 0 0]\n",
      "   [0 0 0]\n",
      "   [0 0 0]\n",
      "   [0 0 0]\n",
      "   [0 0 0]\n",
      "   [0 0 0]\n",
      "   [0 0 0]\n",
      "   [0 0 0]\n",
      "   [0 0 0]\n",
      "   [0 0 0]\n",
      "   [0 0 0]]\n",
      "\n",
      "  [[0 0 0]\n",
      "   [0 0 0]\n",
      "   [0 0 0]\n",
      "   [0 0 0]\n",
      "   [0 0 0]\n",
      "   [0 0 0]\n",
      "   [0 0 0]\n",
      "   [0 0 0]\n",
      "   [0 0 0]\n",
      "   [0 0 0]\n",
      "   [0 0 0]\n",
      "   [0 0 0]\n",
      "   [0 0 0]\n",
      "   [0 0 0]\n",
      "   [0 0 0]\n",
      "   [0 0 0]]\n",
      "\n",
      "  [[0 1 0]\n",
      "   [0 0 1]\n",
      "   [0 0 1]\n",
      "   [1 0 0]\n",
      "   [1 0 1]\n",
      "   [0 0 0]\n",
      "   [0 1 0]\n",
      "   [1 1 0]\n",
      "   [1 1 1]\n",
      "   [1 1 0]\n",
      "   [1 0 1]\n",
      "   [0 0 0]\n",
      "   [1 0 1]\n",
      "   [0 0 0]\n",
      "   [1 0 0]\n",
      "   [0 1 0]]]\n",
      "\n",
      "\n",
      " [[[0 0 0]\n",
      "   [0 0 0]\n",
      "   [0 0 0]\n",
      "   [0 0 0]\n",
      "   [0 0 0]\n",
      "   [0 0 0]\n",
      "   [0 0 0]\n",
      "   [0 0 0]\n",
      "   [0 0 0]\n",
      "   [0 0 0]\n",
      "   [0 0 0]\n",
      "   [0 0 0]\n",
      "   [0 0 0]\n",
      "   [0 0 0]\n",
      "   [0 0 0]\n",
      "   [0 0 0]]\n",
      "\n",
      "  [[0 0 0]\n",
      "   [0 0 0]\n",
      "   [0 0 0]\n",
      "   [0 0 0]\n",
      "   [0 0 0]\n",
      "   [0 0 0]\n",
      "   [0 0 0]\n",
      "   [0 0 0]\n",
      "   [0 0 0]\n",
      "   [0 0 0]\n",
      "   [0 0 0]\n",
      "   [0 0 0]\n",
      "   [0 0 0]\n",
      "   [0 0 0]\n",
      "   [0 0 0]\n",
      "   [0 0 0]]\n",
      "\n",
      "  [[0 0 0]\n",
      "   [0 0 0]\n",
      "   [0 0 0]\n",
      "   [0 0 0]\n",
      "   [0 0 0]\n",
      "   [0 0 0]\n",
      "   [0 0 0]\n",
      "   [0 0 0]\n",
      "   [0 0 0]\n",
      "   [0 0 0]\n",
      "   [0 0 0]\n",
      "   [0 0 0]\n",
      "   [0 0 0]\n",
      "   [0 0 0]\n",
      "   [0 0 0]\n",
      "   [0 0 0]]\n",
      "\n",
      "  [[0 0 0]\n",
      "   [0 0 0]\n",
      "   [0 0 0]\n",
      "   [0 0 0]\n",
      "   [0 0 0]\n",
      "   [0 0 0]\n",
      "   [0 0 0]\n",
      "   [0 0 0]\n",
      "   [0 0 0]\n",
      "   [0 0 0]\n",
      "   [0 0 0]\n",
      "   [0 0 0]\n",
      "   [0 0 0]\n",
      "   [0 0 0]\n",
      "   [0 0 0]\n",
      "   [0 0 0]]\n",
      "\n",
      "  [[0 0 0]\n",
      "   [0 0 0]\n",
      "   [0 0 0]\n",
      "   [0 0 0]\n",
      "   [0 0 0]\n",
      "   [0 0 0]\n",
      "   [0 0 0]\n",
      "   [0 0 0]\n",
      "   [0 0 0]\n",
      "   [0 0 0]\n",
      "   [0 0 0]\n",
      "   [0 0 0]\n",
      "   [0 0 0]\n",
      "   [0 0 0]\n",
      "   [0 0 0]\n",
      "   [0 0 0]]\n",
      "\n",
      "  [[0 0 0]\n",
      "   [0 0 0]\n",
      "   [0 0 0]\n",
      "   [0 0 0]\n",
      "   [0 0 0]\n",
      "   [0 0 0]\n",
      "   [0 0 0]\n",
      "   [0 0 0]\n",
      "   [0 0 0]\n",
      "   [0 0 0]\n",
      "   [0 0 0]\n",
      "   [0 0 0]\n",
      "   [0 0 0]\n",
      "   [0 0 0]\n",
      "   [0 0 0]\n",
      "   [0 0 0]]\n",
      "\n",
      "  [[0 0 0]\n",
      "   [0 0 0]\n",
      "   [0 0 0]\n",
      "   [0 0 0]\n",
      "   [0 0 0]\n",
      "   [0 0 0]\n",
      "   [0 0 0]\n",
      "   [0 0 0]\n",
      "   [0 0 0]\n",
      "   [0 0 0]\n",
      "   [0 0 0]\n",
      "   [0 0 0]\n",
      "   [0 0 0]\n",
      "   [0 0 0]\n",
      "   [0 0 0]\n",
      "   [0 0 0]]\n",
      "\n",
      "  [[0 1 0]\n",
      "   [0 1 1]\n",
      "   [0 0 1]\n",
      "   [1 0 0]\n",
      "   [1 1 0]\n",
      "   [0 1 0]\n",
      "   [1 1 1]\n",
      "   [0 0 1]\n",
      "   [0 1 1]\n",
      "   [0 1 0]\n",
      "   [1 1 0]\n",
      "   [0 0 0]\n",
      "   [1 0 1]\n",
      "   [1 0 1]\n",
      "   [1 0 1]\n",
      "   [0 0 0]]]\n",
      "\n",
      "\n",
      " [[[0 0 0]\n",
      "   [0 0 0]\n",
      "   [0 0 0]\n",
      "   [0 0 0]\n",
      "   [0 0 0]\n",
      "   [0 0 0]\n",
      "   [0 0 0]\n",
      "   [0 0 0]\n",
      "   [0 0 0]\n",
      "   [0 0 0]\n",
      "   [0 0 0]\n",
      "   [0 0 0]\n",
      "   [0 0 0]\n",
      "   [0 0 0]\n",
      "   [0 0 0]\n",
      "   [0 0 0]]\n",
      "\n",
      "  [[0 0 0]\n",
      "   [0 0 0]\n",
      "   [0 0 0]\n",
      "   [0 0 0]\n",
      "   [0 0 0]\n",
      "   [0 0 0]\n",
      "   [0 0 0]\n",
      "   [0 0 0]\n",
      "   [0 0 0]\n",
      "   [0 0 0]\n",
      "   [0 0 0]\n",
      "   [0 0 0]\n",
      "   [0 0 0]\n",
      "   [0 0 0]\n",
      "   [0 0 0]\n",
      "   [0 0 0]]\n",
      "\n",
      "  [[0 0 0]\n",
      "   [0 0 0]\n",
      "   [0 0 0]\n",
      "   [0 0 0]\n",
      "   [0 0 0]\n",
      "   [0 0 0]\n",
      "   [0 0 0]\n",
      "   [0 0 0]\n",
      "   [0 0 0]\n",
      "   [0 0 0]\n",
      "   [0 0 0]\n",
      "   [0 0 0]\n",
      "   [0 0 0]\n",
      "   [0 0 0]\n",
      "   [0 0 0]\n",
      "   [0 0 0]]\n",
      "\n",
      "  [[0 0 0]\n",
      "   [0 0 0]\n",
      "   [0 0 0]\n",
      "   [0 0 0]\n",
      "   [0 0 0]\n",
      "   [0 0 0]\n",
      "   [0 0 0]\n",
      "   [0 0 0]\n",
      "   [0 0 0]\n",
      "   [0 0 0]\n",
      "   [0 0 0]\n",
      "   [0 0 0]\n",
      "   [0 0 0]\n",
      "   [0 0 0]\n",
      "   [0 0 0]\n",
      "   [0 0 0]]\n",
      "\n",
      "  [[0 0 0]\n",
      "   [0 0 0]\n",
      "   [0 0 0]\n",
      "   [0 0 0]\n",
      "   [0 0 0]\n",
      "   [0 0 0]\n",
      "   [0 0 0]\n",
      "   [0 0 0]\n",
      "   [0 0 0]\n",
      "   [0 0 0]\n",
      "   [0 0 0]\n",
      "   [0 0 0]\n",
      "   [0 0 0]\n",
      "   [0 0 0]\n",
      "   [0 0 0]\n",
      "   [0 0 0]]\n",
      "\n",
      "  [[0 0 0]\n",
      "   [0 0 0]\n",
      "   [0 0 0]\n",
      "   [0 0 0]\n",
      "   [0 0 0]\n",
      "   [0 0 0]\n",
      "   [0 0 0]\n",
      "   [0 0 0]\n",
      "   [0 0 0]\n",
      "   [0 0 0]\n",
      "   [0 0 0]\n",
      "   [0 0 0]\n",
      "   [0 0 0]\n",
      "   [0 0 0]\n",
      "   [0 0 0]\n",
      "   [0 0 0]]\n",
      "\n",
      "  [[0 0 0]\n",
      "   [0 0 0]\n",
      "   [0 0 0]\n",
      "   [0 0 0]\n",
      "   [0 0 0]\n",
      "   [0 0 0]\n",
      "   [0 0 0]\n",
      "   [0 0 0]\n",
      "   [0 0 0]\n",
      "   [0 0 0]\n",
      "   [0 0 0]\n",
      "   [0 0 0]\n",
      "   [0 0 0]\n",
      "   [0 0 0]\n",
      "   [0 0 0]\n",
      "   [0 0 0]]\n",
      "\n",
      "  [[1 1 0]\n",
      "   [0 0 0]\n",
      "   [1 0 0]\n",
      "   [1 1 0]\n",
      "   [1 0 0]\n",
      "   [1 0 1]\n",
      "   [0 0 0]\n",
      "   [0 0 0]\n",
      "   [1 1 0]\n",
      "   [0 1 1]\n",
      "   [0 0 0]\n",
      "   [1 0 0]\n",
      "   [0 1 1]\n",
      "   [1 1 0]\n",
      "   [0 0 0]\n",
      "   [0 0 0]]]\n",
      "\n",
      "\n",
      " [[[0 0 0]\n",
      "   [0 0 0]\n",
      "   [0 0 0]\n",
      "   [0 0 0]\n",
      "   [0 0 0]\n",
      "   [0 0 0]\n",
      "   [0 0 0]\n",
      "   [0 0 0]\n",
      "   [0 0 0]\n",
      "   [0 0 0]\n",
      "   [0 0 0]\n",
      "   [0 0 0]\n",
      "   [0 0 0]\n",
      "   [0 0 0]\n",
      "   [0 0 0]\n",
      "   [0 0 0]]\n",
      "\n",
      "  [[0 0 0]\n",
      "   [0 0 0]\n",
      "   [0 0 0]\n",
      "   [0 0 0]\n",
      "   [0 0 0]\n",
      "   [0 0 0]\n",
      "   [0 0 0]\n",
      "   [0 0 0]\n",
      "   [0 0 0]\n",
      "   [0 0 0]\n",
      "   [0 0 0]\n",
      "   [0 0 0]\n",
      "   [0 0 0]\n",
      "   [0 0 0]\n",
      "   [0 0 0]\n",
      "   [0 0 0]]\n",
      "\n",
      "  [[0 0 0]\n",
      "   [0 0 0]\n",
      "   [0 0 0]\n",
      "   [0 0 0]\n",
      "   [0 0 0]\n",
      "   [0 0 0]\n",
      "   [0 0 0]\n",
      "   [0 0 0]\n",
      "   [0 0 0]\n",
      "   [0 0 0]\n",
      "   [0 0 0]\n",
      "   [0 0 0]\n",
      "   [0 0 0]\n",
      "   [0 0 0]\n",
      "   [0 0 0]\n",
      "   [0 0 0]]\n",
      "\n",
      "  [[0 0 0]\n",
      "   [0 0 0]\n",
      "   [0 0 0]\n",
      "   [0 0 0]\n",
      "   [0 0 0]\n",
      "   [0 0 0]\n",
      "   [0 0 0]\n",
      "   [0 0 0]\n",
      "   [0 0 0]\n",
      "   [0 0 0]\n",
      "   [0 0 0]\n",
      "   [0 0 0]\n",
      "   [0 0 0]\n",
      "   [0 0 0]\n",
      "   [0 0 0]\n",
      "   [0 0 0]]\n",
      "\n",
      "  [[0 0 0]\n",
      "   [0 0 0]\n",
      "   [0 0 0]\n",
      "   [0 0 0]\n",
      "   [0 0 0]\n",
      "   [0 0 0]\n",
      "   [0 0 0]\n",
      "   [0 0 0]\n",
      "   [0 0 0]\n",
      "   [0 0 0]\n",
      "   [0 0 0]\n",
      "   [0 0 0]\n",
      "   [0 0 0]\n",
      "   [0 0 0]\n",
      "   [0 0 0]\n",
      "   [0 0 0]]\n",
      "\n",
      "  [[0 0 0]\n",
      "   [0 0 0]\n",
      "   [0 0 0]\n",
      "   [0 0 0]\n",
      "   [0 0 0]\n",
      "   [0 0 0]\n",
      "   [0 0 0]\n",
      "   [0 0 0]\n",
      "   [0 0 0]\n",
      "   [0 0 0]\n",
      "   [0 0 0]\n",
      "   [0 0 0]\n",
      "   [0 0 0]\n",
      "   [0 0 0]\n",
      "   [0 0 0]\n",
      "   [0 0 0]]\n",
      "\n",
      "  [[0 0 0]\n",
      "   [0 0 0]\n",
      "   [0 0 0]\n",
      "   [0 0 0]\n",
      "   [0 0 0]\n",
      "   [0 0 0]\n",
      "   [0 0 0]\n",
      "   [0 0 0]\n",
      "   [0 0 0]\n",
      "   [0 0 0]\n",
      "   [0 0 0]\n",
      "   [0 0 0]\n",
      "   [0 0 0]\n",
      "   [0 0 0]\n",
      "   [0 0 0]\n",
      "   [0 0 0]]\n",
      "\n",
      "  [[1 0 0]\n",
      "   [0 1 1]\n",
      "   [0 1 0]\n",
      "   [1 0 0]\n",
      "   [0 1 1]\n",
      "   [0 0 1]\n",
      "   [0 1 0]\n",
      "   [0 1 1]\n",
      "   [0 0 1]\n",
      "   [1 0 1]\n",
      "   [1 0 0]\n",
      "   [0 0 0]\n",
      "   [1 1 1]\n",
      "   [1 1 1]\n",
      "   [0 1 0]\n",
      "   [0 1 1]]]\n",
      "\n",
      "\n",
      " [[[0 0 0]\n",
      "   [0 0 0]\n",
      "   [0 0 0]\n",
      "   [0 0 0]\n",
      "   [0 0 0]\n",
      "   [0 0 0]\n",
      "   [0 0 0]\n",
      "   [0 0 0]\n",
      "   [0 0 0]\n",
      "   [0 0 0]\n",
      "   [0 0 0]\n",
      "   [0 0 0]\n",
      "   [0 0 0]\n",
      "   [0 0 0]\n",
      "   [0 0 0]\n",
      "   [0 0 0]]\n",
      "\n",
      "  [[0 0 0]\n",
      "   [0 0 0]\n",
      "   [0 0 0]\n",
      "   [0 0 0]\n",
      "   [0 0 0]\n",
      "   [0 0 0]\n",
      "   [0 0 0]\n",
      "   [0 0 0]\n",
      "   [0 0 0]\n",
      "   [0 0 0]\n",
      "   [0 0 0]\n",
      "   [0 0 0]\n",
      "   [0 0 0]\n",
      "   [0 0 0]\n",
      "   [0 0 0]\n",
      "   [0 0 0]]\n",
      "\n",
      "  [[0 0 0]\n",
      "   [0 0 0]\n",
      "   [0 0 0]\n",
      "   [0 0 0]\n",
      "   [0 0 0]\n",
      "   [0 0 0]\n",
      "   [0 0 0]\n",
      "   [0 0 0]\n",
      "   [0 0 0]\n",
      "   [0 0 0]\n",
      "   [0 0 0]\n",
      "   [0 0 0]\n",
      "   [0 0 0]\n",
      "   [0 0 0]\n",
      "   [0 0 0]\n",
      "   [0 0 0]]\n",
      "\n",
      "  [[0 0 0]\n",
      "   [0 0 0]\n",
      "   [0 0 0]\n",
      "   [0 0 0]\n",
      "   [0 0 0]\n",
      "   [0 0 0]\n",
      "   [0 0 0]\n",
      "   [0 0 0]\n",
      "   [0 0 0]\n",
      "   [0 0 0]\n",
      "   [0 0 0]\n",
      "   [0 0 0]\n",
      "   [0 0 0]\n",
      "   [0 0 0]\n",
      "   [0 0 0]\n",
      "   [0 0 0]]\n",
      "\n",
      "  [[0 0 0]\n",
      "   [0 0 0]\n",
      "   [0 0 0]\n",
      "   [0 0 0]\n",
      "   [0 0 0]\n",
      "   [0 0 0]\n",
      "   [0 0 0]\n",
      "   [0 0 0]\n",
      "   [0 0 0]\n",
      "   [0 0 0]\n",
      "   [0 0 0]\n",
      "   [0 0 0]\n",
      "   [0 0 0]\n",
      "   [0 0 0]\n",
      "   [0 0 0]\n",
      "   [0 0 0]]\n",
      "\n",
      "  [[0 0 0]\n",
      "   [0 0 0]\n",
      "   [0 0 0]\n",
      "   [0 0 0]\n",
      "   [0 0 0]\n",
      "   [0 0 0]\n",
      "   [0 0 0]\n",
      "   [0 0 0]\n",
      "   [0 0 0]\n",
      "   [0 0 0]\n",
      "   [0 0 0]\n",
      "   [0 0 0]\n",
      "   [0 0 0]\n",
      "   [0 0 0]\n",
      "   [0 0 0]\n",
      "   [0 0 0]]\n",
      "\n",
      "  [[0 0 0]\n",
      "   [0 0 0]\n",
      "   [0 0 0]\n",
      "   [0 0 0]\n",
      "   [0 0 0]\n",
      "   [0 0 0]\n",
      "   [0 0 0]\n",
      "   [0 0 0]\n",
      "   [0 0 0]\n",
      "   [0 0 0]\n",
      "   [0 0 0]\n",
      "   [0 0 0]\n",
      "   [0 0 0]\n",
      "   [0 0 0]\n",
      "   [0 0 0]\n",
      "   [0 0 0]]\n",
      "\n",
      "  [[1 1 1]\n",
      "   [0 0 0]\n",
      "   [1 1 1]\n",
      "   [0 0 0]\n",
      "   [0 1 1]\n",
      "   [1 1 0]\n",
      "   [0 0 1]\n",
      "   [1 1 1]\n",
      "   [0 1 1]\n",
      "   [1 0 1]\n",
      "   [1 0 0]\n",
      "   [1 0 1]\n",
      "   [0 0 0]\n",
      "   [1 1 0]\n",
      "   [0 1 0]\n",
      "   [0 1 0]]]\n",
      "\n",
      "\n",
      " [[[0 0 0]\n",
      "   [0 0 0]\n",
      "   [0 0 0]\n",
      "   [0 0 0]\n",
      "   [0 0 0]\n",
      "   [0 0 0]\n",
      "   [0 0 0]\n",
      "   [0 0 0]\n",
      "   [0 0 0]\n",
      "   [0 0 0]\n",
      "   [0 0 0]\n",
      "   [0 0 0]\n",
      "   [0 0 0]\n",
      "   [0 0 0]\n",
      "   [0 0 0]\n",
      "   [0 0 0]]\n",
      "\n",
      "  [[0 0 0]\n",
      "   [0 0 0]\n",
      "   [0 0 0]\n",
      "   [0 0 0]\n",
      "   [0 0 0]\n",
      "   [0 0 0]\n",
      "   [0 0 0]\n",
      "   [0 0 0]\n",
      "   [0 0 0]\n",
      "   [0 0 0]\n",
      "   [0 0 0]\n",
      "   [0 0 0]\n",
      "   [0 0 0]\n",
      "   [0 0 0]\n",
      "   [0 0 0]\n",
      "   [0 0 0]]\n",
      "\n",
      "  [[0 0 0]\n",
      "   [0 0 0]\n",
      "   [0 0 0]\n",
      "   [0 0 0]\n",
      "   [0 0 0]\n",
      "   [0 0 0]\n",
      "   [0 0 0]\n",
      "   [0 0 0]\n",
      "   [0 0 0]\n",
      "   [0 0 0]\n",
      "   [0 0 0]\n",
      "   [0 0 0]\n",
      "   [0 0 0]\n",
      "   [0 0 0]\n",
      "   [0 0 0]\n",
      "   [0 0 0]]\n",
      "\n",
      "  [[0 0 0]\n",
      "   [0 0 0]\n",
      "   [0 0 0]\n",
      "   [0 0 0]\n",
      "   [0 0 0]\n",
      "   [0 0 0]\n",
      "   [0 0 0]\n",
      "   [0 0 0]\n",
      "   [0 0 0]\n",
      "   [0 0 0]\n",
      "   [0 0 0]\n",
      "   [0 0 0]\n",
      "   [0 0 0]\n",
      "   [0 0 0]\n",
      "   [0 0 0]\n",
      "   [0 0 0]]\n",
      "\n",
      "  [[0 0 0]\n",
      "   [0 0 0]\n",
      "   [0 0 0]\n",
      "   [0 0 0]\n",
      "   [0 0 0]\n",
      "   [0 0 0]\n",
      "   [0 0 0]\n",
      "   [0 0 0]\n",
      "   [0 0 0]\n",
      "   [0 0 0]\n",
      "   [0 0 0]\n",
      "   [0 0 0]\n",
      "   [0 0 0]\n",
      "   [0 0 0]\n",
      "   [0 0 0]\n",
      "   [0 0 0]]\n",
      "\n",
      "  [[0 0 0]\n",
      "   [0 0 0]\n",
      "   [0 0 0]\n",
      "   [0 0 0]\n",
      "   [0 0 0]\n",
      "   [0 0 0]\n",
      "   [0 0 0]\n",
      "   [0 0 0]\n",
      "   [0 0 0]\n",
      "   [0 0 0]\n",
      "   [0 0 0]\n",
      "   [0 0 0]\n",
      "   [0 0 0]\n",
      "   [0 0 0]\n",
      "   [0 0 0]\n",
      "   [0 0 0]]\n",
      "\n",
      "  [[0 0 0]\n",
      "   [0 0 0]\n",
      "   [0 0 0]\n",
      "   [0 0 0]\n",
      "   [0 0 0]\n",
      "   [0 0 0]\n",
      "   [0 0 0]\n",
      "   [0 0 0]\n",
      "   [0 0 0]\n",
      "   [0 0 0]\n",
      "   [0 0 0]\n",
      "   [0 0 0]\n",
      "   [0 0 0]\n",
      "   [0 0 0]\n",
      "   [0 0 0]\n",
      "   [0 0 0]]\n",
      "\n",
      "  [[0 0 0]\n",
      "   [1 0 1]\n",
      "   [0 1 0]\n",
      "   [0 1 0]\n",
      "   [1 0 1]\n",
      "   [0 1 1]\n",
      "   [0 1 1]\n",
      "   [1 0 1]\n",
      "   [0 0 1]\n",
      "   [1 0 0]\n",
      "   [0 1 0]\n",
      "   [0 0 1]\n",
      "   [0 0 1]\n",
      "   [0 0 0]\n",
      "   [0 0 0]\n",
      "   [0 1 0]]]\n",
      "\n",
      "\n",
      " [[[0 0 0]\n",
      "   [0 0 0]\n",
      "   [0 0 0]\n",
      "   [0 0 0]\n",
      "   [0 0 0]\n",
      "   [0 0 0]\n",
      "   [0 0 0]\n",
      "   [0 0 0]\n",
      "   [0 0 0]\n",
      "   [0 0 0]\n",
      "   [0 0 0]\n",
      "   [0 0 0]\n",
      "   [0 0 0]\n",
      "   [0 0 0]\n",
      "   [0 0 0]\n",
      "   [0 0 0]]\n",
      "\n",
      "  [[0 0 0]\n",
      "   [0 0 0]\n",
      "   [0 0 0]\n",
      "   [0 0 0]\n",
      "   [0 0 0]\n",
      "   [0 0 0]\n",
      "   [0 0 0]\n",
      "   [0 0 0]\n",
      "   [0 0 0]\n",
      "   [0 0 0]\n",
      "   [0 0 0]\n",
      "   [0 0 0]\n",
      "   [0 0 0]\n",
      "   [0 0 0]\n",
      "   [0 0 0]\n",
      "   [0 0 0]]\n",
      "\n",
      "  [[0 0 0]\n",
      "   [0 0 0]\n",
      "   [0 0 0]\n",
      "   [0 0 0]\n",
      "   [0 0 0]\n",
      "   [0 0 0]\n",
      "   [0 0 0]\n",
      "   [0 0 0]\n",
      "   [0 0 0]\n",
      "   [0 0 0]\n",
      "   [0 0 0]\n",
      "   [0 0 0]\n",
      "   [0 0 0]\n",
      "   [0 0 0]\n",
      "   [0 0 0]\n",
      "   [0 0 0]]\n",
      "\n",
      "  [[0 0 0]\n",
      "   [0 0 0]\n",
      "   [0 0 0]\n",
      "   [0 0 0]\n",
      "   [0 0 0]\n",
      "   [0 0 0]\n",
      "   [0 0 0]\n",
      "   [0 0 0]\n",
      "   [0 0 0]\n",
      "   [0 0 0]\n",
      "   [0 0 0]\n",
      "   [0 0 0]\n",
      "   [0 0 0]\n",
      "   [0 0 0]\n",
      "   [0 0 0]\n",
      "   [0 0 0]]\n",
      "\n",
      "  [[0 0 0]\n",
      "   [0 0 0]\n",
      "   [0 0 0]\n",
      "   [0 0 0]\n",
      "   [0 0 0]\n",
      "   [0 0 0]\n",
      "   [0 0 0]\n",
      "   [0 0 0]\n",
      "   [0 0 0]\n",
      "   [0 0 0]\n",
      "   [0 0 0]\n",
      "   [0 0 0]\n",
      "   [0 0 0]\n",
      "   [0 0 0]\n",
      "   [0 0 0]\n",
      "   [0 0 0]]\n",
      "\n",
      "  [[0 0 0]\n",
      "   [0 0 0]\n",
      "   [0 0 0]\n",
      "   [0 0 0]\n",
      "   [0 0 0]\n",
      "   [0 0 0]\n",
      "   [0 0 0]\n",
      "   [0 0 0]\n",
      "   [0 0 0]\n",
      "   [0 0 0]\n",
      "   [0 0 0]\n",
      "   [0 0 0]\n",
      "   [0 0 0]\n",
      "   [0 0 0]\n",
      "   [0 0 0]\n",
      "   [0 0 0]]\n",
      "\n",
      "  [[0 0 0]\n",
      "   [0 0 0]\n",
      "   [0 0 0]\n",
      "   [0 0 0]\n",
      "   [0 0 0]\n",
      "   [0 0 0]\n",
      "   [0 0 0]\n",
      "   [0 0 0]\n",
      "   [0 0 0]\n",
      "   [0 0 0]\n",
      "   [0 0 0]\n",
      "   [0 0 0]\n",
      "   [0 0 0]\n",
      "   [0 0 0]\n",
      "   [0 0 0]\n",
      "   [0 0 0]]\n",
      "\n",
      "  [[0 0 1]\n",
      "   [0 0 0]\n",
      "   [0 1 1]\n",
      "   [1 0 0]\n",
      "   [0 0 0]\n",
      "   [0 0 0]\n",
      "   [1 1 1]\n",
      "   [0 0 1]\n",
      "   [1 0 1]\n",
      "   [0 0 1]\n",
      "   [1 1 0]\n",
      "   [1 1 0]\n",
      "   [1 1 1]\n",
      "   [1 0 0]\n",
      "   [1 1 1]\n",
      "   [0 0 1]]]\n",
      "\n",
      "\n",
      " [[[0 0 0]\n",
      "   [0 0 0]\n",
      "   [0 0 0]\n",
      "   [0 0 0]\n",
      "   [0 0 0]\n",
      "   [0 0 0]\n",
      "   [0 0 0]\n",
      "   [0 0 0]\n",
      "   [0 0 0]\n",
      "   [0 0 0]\n",
      "   [0 0 0]\n",
      "   [0 0 0]\n",
      "   [0 0 0]\n",
      "   [0 0 0]\n",
      "   [0 0 0]\n",
      "   [0 0 0]]\n",
      "\n",
      "  [[0 0 0]\n",
      "   [0 0 0]\n",
      "   [0 0 0]\n",
      "   [0 0 0]\n",
      "   [0 0 0]\n",
      "   [0 0 0]\n",
      "   [0 0 0]\n",
      "   [0 0 0]\n",
      "   [0 0 0]\n",
      "   [0 0 0]\n",
      "   [0 0 0]\n",
      "   [0 0 0]\n",
      "   [0 0 0]\n",
      "   [0 0 0]\n",
      "   [0 0 0]\n",
      "   [0 0 0]]\n",
      "\n",
      "  [[0 0 0]\n",
      "   [0 0 0]\n",
      "   [0 0 0]\n",
      "   [0 0 0]\n",
      "   [0 0 0]\n",
      "   [0 0 0]\n",
      "   [0 0 0]\n",
      "   [0 0 0]\n",
      "   [0 0 0]\n",
      "   [0 0 0]\n",
      "   [0 0 0]\n",
      "   [0 0 0]\n",
      "   [0 0 0]\n",
      "   [0 0 0]\n",
      "   [0 0 0]\n",
      "   [0 0 0]]\n",
      "\n",
      "  [[0 0 0]\n",
      "   [0 0 0]\n",
      "   [0 0 0]\n",
      "   [0 0 0]\n",
      "   [0 0 0]\n",
      "   [0 0 0]\n",
      "   [0 0 0]\n",
      "   [0 0 0]\n",
      "   [0 0 0]\n",
      "   [0 0 0]\n",
      "   [0 0 0]\n",
      "   [0 0 0]\n",
      "   [0 0 0]\n",
      "   [0 0 0]\n",
      "   [0 0 0]\n",
      "   [0 0 0]]\n",
      "\n",
      "  [[0 0 0]\n",
      "   [0 0 0]\n",
      "   [0 0 0]\n",
      "   [0 0 0]\n",
      "   [0 0 0]\n",
      "   [0 0 0]\n",
      "   [0 0 0]\n",
      "   [0 0 0]\n",
      "   [0 0 0]\n",
      "   [0 0 0]\n",
      "   [0 0 0]\n",
      "   [0 0 0]\n",
      "   [0 0 0]\n",
      "   [0 0 0]\n",
      "   [0 0 0]\n",
      "   [0 0 0]]\n",
      "\n",
      "  [[0 0 0]\n",
      "   [0 0 0]\n",
      "   [0 0 0]\n",
      "   [0 0 0]\n",
      "   [0 0 0]\n",
      "   [0 0 0]\n",
      "   [0 0 0]\n",
      "   [0 0 0]\n",
      "   [0 0 0]\n",
      "   [0 0 0]\n",
      "   [0 0 0]\n",
      "   [0 0 0]\n",
      "   [0 0 0]\n",
      "   [0 0 0]\n",
      "   [0 0 0]\n",
      "   [0 0 0]]\n",
      "\n",
      "  [[0 0 0]\n",
      "   [0 0 0]\n",
      "   [0 0 0]\n",
      "   [0 0 0]\n",
      "   [0 0 0]\n",
      "   [0 0 0]\n",
      "   [0 0 0]\n",
      "   [0 0 0]\n",
      "   [0 0 0]\n",
      "   [0 0 0]\n",
      "   [0 0 0]\n",
      "   [0 0 0]\n",
      "   [0 0 0]\n",
      "   [0 0 0]\n",
      "   [0 0 0]\n",
      "   [0 0 0]]\n",
      "\n",
      "  [[0 1 0]\n",
      "   [1 0 1]\n",
      "   [1 0 1]\n",
      "   [1 0 0]\n",
      "   [0 1 0]\n",
      "   [0 0 1]\n",
      "   [0 1 0]\n",
      "   [1 1 0]\n",
      "   [1 0 1]\n",
      "   [1 1 1]\n",
      "   [1 1 1]\n",
      "   [1 0 1]\n",
      "   [1 1 0]\n",
      "   [1 0 1]\n",
      "   [1 0 0]\n",
      "   [0 1 0]]]\n",
      "\n",
      "\n",
      " [[[0 0 0]\n",
      "   [0 0 0]\n",
      "   [0 0 0]\n",
      "   [0 0 0]\n",
      "   [0 0 0]\n",
      "   [0 0 0]\n",
      "   [0 0 0]\n",
      "   [0 0 0]\n",
      "   [0 0 0]\n",
      "   [0 0 0]\n",
      "   [0 0 0]\n",
      "   [0 0 0]\n",
      "   [0 0 0]\n",
      "   [0 0 0]\n",
      "   [0 0 0]\n",
      "   [0 0 0]]\n",
      "\n",
      "  [[0 0 0]\n",
      "   [0 0 0]\n",
      "   [0 0 0]\n",
      "   [0 0 0]\n",
      "   [0 0 0]\n",
      "   [0 0 0]\n",
      "   [0 0 0]\n",
      "   [0 0 0]\n",
      "   [0 0 0]\n",
      "   [0 0 0]\n",
      "   [0 0 0]\n",
      "   [0 0 0]\n",
      "   [0 0 0]\n",
      "   [0 0 0]\n",
      "   [0 0 0]\n",
      "   [0 0 0]]\n",
      "\n",
      "  [[0 0 0]\n",
      "   [0 0 0]\n",
      "   [0 0 0]\n",
      "   [0 0 0]\n",
      "   [0 0 0]\n",
      "   [0 0 0]\n",
      "   [0 0 0]\n",
      "   [0 0 0]\n",
      "   [0 0 0]\n",
      "   [0 0 0]\n",
      "   [0 0 0]\n",
      "   [0 0 0]\n",
      "   [0 0 0]\n",
      "   [0 0 0]\n",
      "   [0 0 0]\n",
      "   [0 0 0]]\n",
      "\n",
      "  [[0 0 0]\n",
      "   [0 0 0]\n",
      "   [0 0 0]\n",
      "   [0 0 0]\n",
      "   [0 0 0]\n",
      "   [0 0 0]\n",
      "   [0 0 0]\n",
      "   [0 0 0]\n",
      "   [0 0 0]\n",
      "   [0 0 0]\n",
      "   [0 0 0]\n",
      "   [0 0 0]\n",
      "   [0 0 0]\n",
      "   [0 0 0]\n",
      "   [0 0 0]\n",
      "   [0 0 0]]\n",
      "\n",
      "  [[0 0 0]\n",
      "   [0 0 0]\n",
      "   [0 0 0]\n",
      "   [0 0 0]\n",
      "   [0 0 0]\n",
      "   [0 0 0]\n",
      "   [0 0 0]\n",
      "   [0 0 0]\n",
      "   [0 0 0]\n",
      "   [0 0 0]\n",
      "   [0 0 0]\n",
      "   [0 0 0]\n",
      "   [0 0 0]\n",
      "   [0 0 0]\n",
      "   [0 0 0]\n",
      "   [0 0 0]]\n",
      "\n",
      "  [[0 0 0]\n",
      "   [0 0 0]\n",
      "   [0 0 0]\n",
      "   [0 0 0]\n",
      "   [0 0 0]\n",
      "   [0 0 0]\n",
      "   [0 0 0]\n",
      "   [0 0 0]\n",
      "   [0 0 0]\n",
      "   [0 0 0]\n",
      "   [0 0 0]\n",
      "   [0 0 0]\n",
      "   [0 0 0]\n",
      "   [0 0 0]\n",
      "   [0 0 0]\n",
      "   [0 0 0]]\n",
      "\n",
      "  [[0 0 0]\n",
      "   [0 0 0]\n",
      "   [0 0 0]\n",
      "   [0 0 0]\n",
      "   [0 0 0]\n",
      "   [0 0 0]\n",
      "   [0 0 0]\n",
      "   [0 0 0]\n",
      "   [0 0 0]\n",
      "   [0 0 0]\n",
      "   [0 0 0]\n",
      "   [0 0 0]\n",
      "   [0 0 0]\n",
      "   [0 0 0]\n",
      "   [0 0 0]\n",
      "   [0 0 0]]\n",
      "\n",
      "  [[1 1 1]\n",
      "   [0 1 0]\n",
      "   [0 1 1]\n",
      "   [1 0 0]\n",
      "   [0 1 1]\n",
      "   [1 1 0]\n",
      "   [1 0 1]\n",
      "   [1 1 0]\n",
      "   [1 1 0]\n",
      "   [0 0 0]\n",
      "   [1 0 0]\n",
      "   [0 1 0]\n",
      "   [1 1 0]\n",
      "   [0 0 1]\n",
      "   [0 1 1]\n",
      "   [0 1 0]]]\n",
      "\n",
      "\n",
      " [[[0 0 0]\n",
      "   [0 0 0]\n",
      "   [0 0 0]\n",
      "   [0 0 0]\n",
      "   [0 0 0]\n",
      "   [0 0 0]\n",
      "   [0 0 0]\n",
      "   [0 0 0]\n",
      "   [0 0 0]\n",
      "   [0 0 0]\n",
      "   [0 0 0]\n",
      "   [0 0 0]\n",
      "   [0 0 0]\n",
      "   [0 0 0]\n",
      "   [0 0 0]\n",
      "   [0 0 0]]\n",
      "\n",
      "  [[0 0 0]\n",
      "   [0 0 0]\n",
      "   [0 0 0]\n",
      "   [0 0 0]\n",
      "   [0 0 0]\n",
      "   [0 0 0]\n",
      "   [0 0 0]\n",
      "   [0 0 0]\n",
      "   [0 0 0]\n",
      "   [0 0 0]\n",
      "   [0 0 0]\n",
      "   [0 0 0]\n",
      "   [0 0 0]\n",
      "   [0 0 0]\n",
      "   [0 0 0]\n",
      "   [0 0 0]]\n",
      "\n",
      "  [[0 0 0]\n",
      "   [0 0 0]\n",
      "   [0 0 0]\n",
      "   [0 0 0]\n",
      "   [0 0 0]\n",
      "   [0 0 0]\n",
      "   [0 0 0]\n",
      "   [0 0 0]\n",
      "   [0 0 0]\n",
      "   [0 0 0]\n",
      "   [0 0 0]\n",
      "   [0 0 0]\n",
      "   [0 0 0]\n",
      "   [0 0 0]\n",
      "   [0 0 0]\n",
      "   [0 0 0]]\n",
      "\n",
      "  [[0 0 0]\n",
      "   [0 0 0]\n",
      "   [0 0 0]\n",
      "   [0 0 0]\n",
      "   [0 0 0]\n",
      "   [0 0 0]\n",
      "   [0 0 0]\n",
      "   [0 0 0]\n",
      "   [0 0 0]\n",
      "   [0 0 0]\n",
      "   [0 0 0]\n",
      "   [0 0 0]\n",
      "   [0 0 0]\n",
      "   [0 0 0]\n",
      "   [0 0 0]\n",
      "   [0 0 0]]\n",
      "\n",
      "  [[0 0 0]\n",
      "   [0 0 0]\n",
      "   [0 0 0]\n",
      "   [0 0 0]\n",
      "   [0 0 0]\n",
      "   [0 0 0]\n",
      "   [0 0 0]\n",
      "   [0 0 0]\n",
      "   [0 0 0]\n",
      "   [0 0 0]\n",
      "   [0 0 0]\n",
      "   [0 0 0]\n",
      "   [0 0 0]\n",
      "   [0 0 0]\n",
      "   [0 0 0]\n",
      "   [0 0 0]]\n",
      "\n",
      "  [[0 0 0]\n",
      "   [0 0 0]\n",
      "   [0 0 0]\n",
      "   [0 0 0]\n",
      "   [0 0 0]\n",
      "   [0 0 0]\n",
      "   [0 0 0]\n",
      "   [0 0 0]\n",
      "   [0 0 0]\n",
      "   [0 0 0]\n",
      "   [0 0 0]\n",
      "   [0 0 0]\n",
      "   [0 0 0]\n",
      "   [0 0 0]\n",
      "   [0 0 0]\n",
      "   [0 0 0]]\n",
      "\n",
      "  [[0 0 0]\n",
      "   [0 0 0]\n",
      "   [0 0 0]\n",
      "   [0 0 0]\n",
      "   [0 0 0]\n",
      "   [0 0 0]\n",
      "   [0 0 0]\n",
      "   [0 0 0]\n",
      "   [0 0 0]\n",
      "   [0 0 0]\n",
      "   [0 0 0]\n",
      "   [0 0 0]\n",
      "   [0 0 0]\n",
      "   [0 0 0]\n",
      "   [0 0 0]\n",
      "   [0 0 0]]\n",
      "\n",
      "  [[1 0 1]\n",
      "   [1 0 0]\n",
      "   [0 0 0]\n",
      "   [1 0 1]\n",
      "   [0 1 0]\n",
      "   [0 1 0]\n",
      "   [0 0 1]\n",
      "   [1 1 0]\n",
      "   [1 0 1]\n",
      "   [0 0 1]\n",
      "   [1 1 0]\n",
      "   [1 0 1]\n",
      "   [0 0 1]\n",
      "   [1 1 0]\n",
      "   [1 1 0]\n",
      "   [1 0 1]]]\n",
      "\n",
      "\n",
      " [[[0 0 0]\n",
      "   [0 0 0]\n",
      "   [0 0 0]\n",
      "   [0 0 0]\n",
      "   [0 0 0]\n",
      "   [0 0 0]\n",
      "   [0 0 0]\n",
      "   [0 0 0]\n",
      "   [0 0 0]\n",
      "   [0 0 0]\n",
      "   [0 0 0]\n",
      "   [0 0 0]\n",
      "   [0 0 0]\n",
      "   [0 0 0]\n",
      "   [0 0 0]\n",
      "   [0 0 0]]\n",
      "\n",
      "  [[0 0 0]\n",
      "   [0 0 0]\n",
      "   [0 0 0]\n",
      "   [0 0 0]\n",
      "   [0 0 0]\n",
      "   [0 0 0]\n",
      "   [0 0 0]\n",
      "   [0 0 0]\n",
      "   [0 0 0]\n",
      "   [0 0 0]\n",
      "   [0 0 0]\n",
      "   [0 0 0]\n",
      "   [0 0 0]\n",
      "   [0 0 0]\n",
      "   [0 0 0]\n",
      "   [0 0 0]]\n",
      "\n",
      "  [[0 0 0]\n",
      "   [0 0 0]\n",
      "   [0 0 0]\n",
      "   [0 0 0]\n",
      "   [0 0 0]\n",
      "   [0 0 0]\n",
      "   [0 0 0]\n",
      "   [0 0 0]\n",
      "   [0 0 0]\n",
      "   [0 0 0]\n",
      "   [0 0 0]\n",
      "   [0 0 0]\n",
      "   [0 0 0]\n",
      "   [0 0 0]\n",
      "   [0 0 0]\n",
      "   [0 0 0]]\n",
      "\n",
      "  [[0 0 0]\n",
      "   [0 0 0]\n",
      "   [0 0 0]\n",
      "   [0 0 0]\n",
      "   [0 0 0]\n",
      "   [0 0 0]\n",
      "   [0 0 0]\n",
      "   [0 0 0]\n",
      "   [0 0 0]\n",
      "   [0 0 0]\n",
      "   [0 0 0]\n",
      "   [0 0 0]\n",
      "   [0 0 0]\n",
      "   [0 0 0]\n",
      "   [0 0 0]\n",
      "   [0 0 0]]\n",
      "\n",
      "  [[0 0 0]\n",
      "   [0 0 0]\n",
      "   [0 0 0]\n",
      "   [0 0 0]\n",
      "   [0 0 0]\n",
      "   [0 0 0]\n",
      "   [0 0 0]\n",
      "   [0 0 0]\n",
      "   [0 0 0]\n",
      "   [0 0 0]\n",
      "   [0 0 0]\n",
      "   [0 0 0]\n",
      "   [0 0 0]\n",
      "   [0 0 0]\n",
      "   [0 0 0]\n",
      "   [0 0 0]]\n",
      "\n",
      "  [[0 0 0]\n",
      "   [0 0 0]\n",
      "   [0 0 0]\n",
      "   [0 0 0]\n",
      "   [0 0 0]\n",
      "   [0 0 0]\n",
      "   [0 0 0]\n",
      "   [0 0 0]\n",
      "   [0 0 0]\n",
      "   [0 0 0]\n",
      "   [0 0 0]\n",
      "   [0 0 0]\n",
      "   [0 0 0]\n",
      "   [0 0 0]\n",
      "   [0 0 0]\n",
      "   [0 0 0]]\n",
      "\n",
      "  [[0 0 0]\n",
      "   [0 0 0]\n",
      "   [0 0 0]\n",
      "   [0 0 0]\n",
      "   [0 0 0]\n",
      "   [0 0 0]\n",
      "   [0 0 0]\n",
      "   [0 0 0]\n",
      "   [0 0 0]\n",
      "   [0 0 0]\n",
      "   [0 0 0]\n",
      "   [0 0 0]\n",
      "   [0 0 0]\n",
      "   [0 0 0]\n",
      "   [0 0 0]\n",
      "   [0 0 0]]\n",
      "\n",
      "  [[0 1 0]\n",
      "   [0 0 1]\n",
      "   [0 1 0]\n",
      "   [0 1 0]\n",
      "   [1 1 1]\n",
      "   [0 0 0]\n",
      "   [0 1 1]\n",
      "   [1 1 0]\n",
      "   [0 0 0]\n",
      "   [1 1 1]\n",
      "   [0 0 0]\n",
      "   [0 1 0]\n",
      "   [1 1 0]\n",
      "   [0 0 1]\n",
      "   [0 0 0]\n",
      "   [1 0 1]]]\n",
      "\n",
      "\n",
      " [[[0 0 0]\n",
      "   [0 0 0]\n",
      "   [0 0 0]\n",
      "   [0 0 0]\n",
      "   [0 0 0]\n",
      "   [0 0 0]\n",
      "   [0 0 0]\n",
      "   [0 0 0]\n",
      "   [0 0 0]\n",
      "   [0 0 0]\n",
      "   [0 0 0]\n",
      "   [0 0 0]\n",
      "   [0 0 0]\n",
      "   [0 0 0]\n",
      "   [0 0 0]\n",
      "   [0 0 0]]\n",
      "\n",
      "  [[0 0 0]\n",
      "   [0 0 0]\n",
      "   [0 0 0]\n",
      "   [0 0 0]\n",
      "   [0 0 0]\n",
      "   [0 0 0]\n",
      "   [0 0 0]\n",
      "   [0 0 0]\n",
      "   [0 0 0]\n",
      "   [0 0 0]\n",
      "   [0 0 0]\n",
      "   [0 0 0]\n",
      "   [0 0 0]\n",
      "   [0 0 0]\n",
      "   [0 0 0]\n",
      "   [0 0 0]]\n",
      "\n",
      "  [[0 0 0]\n",
      "   [0 0 0]\n",
      "   [0 0 0]\n",
      "   [0 0 0]\n",
      "   [0 0 0]\n",
      "   [0 0 0]\n",
      "   [0 0 0]\n",
      "   [0 0 0]\n",
      "   [0 0 0]\n",
      "   [0 0 0]\n",
      "   [0 0 0]\n",
      "   [0 0 0]\n",
      "   [0 0 0]\n",
      "   [0 0 0]\n",
      "   [0 0 0]\n",
      "   [0 0 0]]\n",
      "\n",
      "  [[0 0 0]\n",
      "   [0 0 0]\n",
      "   [0 0 0]\n",
      "   [0 0 0]\n",
      "   [0 0 0]\n",
      "   [0 0 0]\n",
      "   [0 0 0]\n",
      "   [0 0 0]\n",
      "   [0 0 0]\n",
      "   [0 0 0]\n",
      "   [0 0 0]\n",
      "   [0 0 0]\n",
      "   [0 0 0]\n",
      "   [0 0 0]\n",
      "   [0 0 0]\n",
      "   [0 0 0]]\n",
      "\n",
      "  [[0 0 0]\n",
      "   [0 0 0]\n",
      "   [0 0 0]\n",
      "   [0 0 0]\n",
      "   [0 0 0]\n",
      "   [0 0 0]\n",
      "   [0 0 0]\n",
      "   [0 0 0]\n",
      "   [0 0 0]\n",
      "   [0 0 0]\n",
      "   [0 0 0]\n",
      "   [0 0 0]\n",
      "   [0 0 0]\n",
      "   [0 0 0]\n",
      "   [0 0 0]\n",
      "   [0 0 0]]\n",
      "\n",
      "  [[0 0 0]\n",
      "   [0 0 0]\n",
      "   [0 0 0]\n",
      "   [0 0 0]\n",
      "   [0 0 0]\n",
      "   [0 0 0]\n",
      "   [0 0 0]\n",
      "   [0 0 0]\n",
      "   [0 0 0]\n",
      "   [0 0 0]\n",
      "   [0 0 0]\n",
      "   [0 0 0]\n",
      "   [0 0 0]\n",
      "   [0 0 0]\n",
      "   [0 0 0]\n",
      "   [0 0 0]]\n",
      "\n",
      "  [[0 0 0]\n",
      "   [0 0 0]\n",
      "   [0 0 0]\n",
      "   [0 0 0]\n",
      "   [0 0 0]\n",
      "   [0 0 0]\n",
      "   [0 0 0]\n",
      "   [0 0 0]\n",
      "   [0 0 0]\n",
      "   [0 0 0]\n",
      "   [0 0 0]\n",
      "   [0 0 0]\n",
      "   [0 0 0]\n",
      "   [0 0 0]\n",
      "   [0 0 0]\n",
      "   [0 0 0]]\n",
      "\n",
      "  [[0 0 1]\n",
      "   [1 1 1]\n",
      "   [1 1 0]\n",
      "   [1 1 0]\n",
      "   [0 0 1]\n",
      "   [1 0 1]\n",
      "   [1 0 0]\n",
      "   [0 1 1]\n",
      "   [1 1 0]\n",
      "   [0 0 1]\n",
      "   [1 1 1]\n",
      "   [0 0 0]\n",
      "   [0 0 0]\n",
      "   [1 0 1]\n",
      "   [1 0 1]\n",
      "   [0 0 1]]]\n",
      "\n",
      "\n",
      " [[[0 0 0]\n",
      "   [0 0 0]\n",
      "   [0 0 0]\n",
      "   [0 0 0]\n",
      "   [0 0 0]\n",
      "   [0 0 0]\n",
      "   [0 0 0]\n",
      "   [0 0 0]\n",
      "   [0 0 0]\n",
      "   [0 0 0]\n",
      "   [0 0 0]\n",
      "   [0 0 0]\n",
      "   [0 0 0]\n",
      "   [0 0 0]\n",
      "   [0 0 0]\n",
      "   [0 0 0]]\n",
      "\n",
      "  [[0 0 0]\n",
      "   [0 0 0]\n",
      "   [0 0 0]\n",
      "   [0 0 0]\n",
      "   [0 0 0]\n",
      "   [0 0 0]\n",
      "   [0 0 0]\n",
      "   [0 0 0]\n",
      "   [0 0 0]\n",
      "   [0 0 0]\n",
      "   [0 0 0]\n",
      "   [0 0 0]\n",
      "   [0 0 0]\n",
      "   [0 0 0]\n",
      "   [0 0 0]\n",
      "   [0 0 0]]\n",
      "\n",
      "  [[0 0 0]\n",
      "   [0 0 0]\n",
      "   [0 0 0]\n",
      "   [0 0 0]\n",
      "   [0 0 0]\n",
      "   [0 0 0]\n",
      "   [0 0 0]\n",
      "   [0 0 0]\n",
      "   [0 0 0]\n",
      "   [0 0 0]\n",
      "   [0 0 0]\n",
      "   [0 0 0]\n",
      "   [0 0 0]\n",
      "   [0 0 0]\n",
      "   [0 0 0]\n",
      "   [0 0 0]]\n",
      "\n",
      "  [[0 0 0]\n",
      "   [0 0 0]\n",
      "   [0 0 0]\n",
      "   [0 0 0]\n",
      "   [0 0 0]\n",
      "   [0 0 0]\n",
      "   [0 0 0]\n",
      "   [0 0 0]\n",
      "   [0 0 0]\n",
      "   [0 0 0]\n",
      "   [0 0 0]\n",
      "   [0 0 0]\n",
      "   [0 0 0]\n",
      "   [0 0 0]\n",
      "   [0 0 0]\n",
      "   [0 0 0]]\n",
      "\n",
      "  [[0 0 0]\n",
      "   [0 0 0]\n",
      "   [0 0 0]\n",
      "   [0 0 0]\n",
      "   [0 0 0]\n",
      "   [0 0 0]\n",
      "   [0 0 0]\n",
      "   [0 0 0]\n",
      "   [0 0 0]\n",
      "   [0 0 0]\n",
      "   [0 0 0]\n",
      "   [0 0 0]\n",
      "   [0 0 0]\n",
      "   [0 0 0]\n",
      "   [0 0 0]\n",
      "   [0 0 0]]\n",
      "\n",
      "  [[0 0 0]\n",
      "   [0 0 0]\n",
      "   [0 0 0]\n",
      "   [0 0 0]\n",
      "   [0 0 0]\n",
      "   [0 0 0]\n",
      "   [0 0 0]\n",
      "   [0 0 0]\n",
      "   [0 0 0]\n",
      "   [0 0 0]\n",
      "   [0 0 0]\n",
      "   [0 0 0]\n",
      "   [0 0 0]\n",
      "   [0 0 0]\n",
      "   [0 0 0]\n",
      "   [0 0 0]]\n",
      "\n",
      "  [[0 0 0]\n",
      "   [0 0 0]\n",
      "   [0 0 0]\n",
      "   [0 0 0]\n",
      "   [0 0 0]\n",
      "   [0 0 0]\n",
      "   [0 0 0]\n",
      "   [0 0 0]\n",
      "   [0 0 0]\n",
      "   [0 0 0]\n",
      "   [0 0 0]\n",
      "   [0 0 0]\n",
      "   [0 0 0]\n",
      "   [0 0 0]\n",
      "   [0 0 0]\n",
      "   [0 0 0]]\n",
      "\n",
      "  [[1 0 0]\n",
      "   [0 0 1]\n",
      "   [1 1 0]\n",
      "   [1 1 1]\n",
      "   [0 1 1]\n",
      "   [1 0 1]\n",
      "   [0 1 0]\n",
      "   [1 1 0]\n",
      "   [0 1 1]\n",
      "   [1 1 1]\n",
      "   [1 1 0]\n",
      "   [0 0 1]\n",
      "   [0 1 0]\n",
      "   [1 1 1]\n",
      "   [0 1 1]\n",
      "   [1 0 0]]]\n",
      "\n",
      "\n",
      " [[[0 0 0]\n",
      "   [0 0 0]\n",
      "   [0 0 0]\n",
      "   [0 0 0]\n",
      "   [0 0 0]\n",
      "   [0 0 0]\n",
      "   [0 0 0]\n",
      "   [0 0 0]\n",
      "   [0 0 0]\n",
      "   [0 0 0]\n",
      "   [0 0 0]\n",
      "   [0 0 0]\n",
      "   [0 0 0]\n",
      "   [0 0 0]\n",
      "   [0 0 0]\n",
      "   [0 0 0]]\n",
      "\n",
      "  [[0 0 0]\n",
      "   [0 0 0]\n",
      "   [0 0 0]\n",
      "   [0 0 0]\n",
      "   [0 0 0]\n",
      "   [0 0 0]\n",
      "   [0 0 0]\n",
      "   [0 0 0]\n",
      "   [0 0 0]\n",
      "   [0 0 0]\n",
      "   [0 0 0]\n",
      "   [0 0 0]\n",
      "   [0 0 0]\n",
      "   [0 0 0]\n",
      "   [0 0 0]\n",
      "   [0 0 0]]\n",
      "\n",
      "  [[0 0 0]\n",
      "   [0 0 0]\n",
      "   [0 0 0]\n",
      "   [0 0 0]\n",
      "   [0 0 0]\n",
      "   [0 0 0]\n",
      "   [0 0 0]\n",
      "   [0 0 0]\n",
      "   [0 0 0]\n",
      "   [0 0 0]\n",
      "   [0 0 0]\n",
      "   [0 0 0]\n",
      "   [0 0 0]\n",
      "   [0 0 0]\n",
      "   [0 0 0]\n",
      "   [0 0 0]]\n",
      "\n",
      "  [[0 0 0]\n",
      "   [0 0 0]\n",
      "   [0 0 0]\n",
      "   [0 0 0]\n",
      "   [0 0 0]\n",
      "   [0 0 0]\n",
      "   [0 0 0]\n",
      "   [0 0 0]\n",
      "   [0 0 0]\n",
      "   [0 0 0]\n",
      "   [0 0 0]\n",
      "   [0 0 0]\n",
      "   [0 0 0]\n",
      "   [0 0 0]\n",
      "   [0 0 0]\n",
      "   [0 0 0]]\n",
      "\n",
      "  [[0 0 0]\n",
      "   [0 0 0]\n",
      "   [0 0 0]\n",
      "   [0 0 0]\n",
      "   [0 0 0]\n",
      "   [0 0 0]\n",
      "   [0 0 0]\n",
      "   [0 0 0]\n",
      "   [0 0 0]\n",
      "   [0 0 0]\n",
      "   [0 0 0]\n",
      "   [0 0 0]\n",
      "   [0 0 0]\n",
      "   [0 0 0]\n",
      "   [0 0 0]\n",
      "   [0 0 0]]\n",
      "\n",
      "  [[0 0 0]\n",
      "   [0 0 0]\n",
      "   [0 0 0]\n",
      "   [0 0 0]\n",
      "   [0 0 0]\n",
      "   [0 0 0]\n",
      "   [0 0 0]\n",
      "   [0 0 0]\n",
      "   [0 0 0]\n",
      "   [0 0 0]\n",
      "   [0 0 0]\n",
      "   [0 0 0]\n",
      "   [0 0 0]\n",
      "   [0 0 0]\n",
      "   [0 0 0]\n",
      "   [0 0 0]]\n",
      "\n",
      "  [[0 0 0]\n",
      "   [0 0 0]\n",
      "   [0 0 0]\n",
      "   [0 0 0]\n",
      "   [0 0 0]\n",
      "   [0 0 0]\n",
      "   [0 0 0]\n",
      "   [0 0 0]\n",
      "   [0 0 0]\n",
      "   [0 0 0]\n",
      "   [0 0 0]\n",
      "   [0 0 0]\n",
      "   [0 0 0]\n",
      "   [0 0 0]\n",
      "   [0 0 0]\n",
      "   [0 0 0]]\n",
      "\n",
      "  [[1 0 1]\n",
      "   [0 0 0]\n",
      "   [0 0 1]\n",
      "   [1 1 0]\n",
      "   [1 0 1]\n",
      "   [1 1 1]\n",
      "   [1 0 0]\n",
      "   [1 1 1]\n",
      "   [0 0 0]\n",
      "   [1 1 1]\n",
      "   [0 0 0]\n",
      "   [1 1 0]\n",
      "   [1 1 1]\n",
      "   [0 1 1]\n",
      "   [1 0 1]\n",
      "   [0 0 1]]]]\n"
     ]
    }
   ],
   "source": [
    "print (np.unpackbits(I[:, np.newaxis], axis=1))"
   ]
  },
  {
   "cell_type": "code",
   "execution_count": 142,
   "metadata": {},
   "outputs": [
    {
     "name": "stdout",
     "output_type": "stream",
     "text": [
      "[[0 0 0]\n",
      " [0 1 1]\n",
      " [1 0 0]\n",
      " [1 0 1]\n",
      " [1 1 1]]\n"
     ]
    }
   ],
   "source": [
    "Z = np.random.randint(0,2,(6,3))\n",
    "T = np.ascontiguousarray(Z).view(np.dtype((np.void, Z.dtype.itemsize * Z.shape[1])))\n",
    "_, idx = np.unique(T, return_index=True)\n",
    "uZ = Z[idx]\n",
    "print (uZ)"
   ]
  },
  {
   "cell_type": "code",
   "execution_count": 143,
   "metadata": {},
   "outputs": [
    {
     "name": "stdout",
     "output_type": "stream",
     "text": [
      "sum\n",
      "4.440780022228511\n"
     ]
    }
   ],
   "source": [
    "A = np.random.uniform(0,1,10)\n",
    "B = np.random.uniform(0,1,10)\n",
    "print ('sum')\n",
    "print (np.einsum('i->', A))# np.sum(A)"
   ]
  },
  {
   "cell_type": "code",
   "execution_count": 144,
   "metadata": {},
   "outputs": [
    {
     "name": "stdout",
     "output_type": "stream",
     "text": [
      "A * B\n",
      "[0.24116002 0.65703477 0.01134847 0.01925558 0.29265562 0.0019681\n",
      " 0.58397017 0.12905973 0.23524559 0.02855678]\n"
     ]
    }
   ],
   "source": [
    "print ('A * B')\n",
    "print (np.einsum('i,i->i', A, B)) # A * B"
   ]
  },
  {
   "cell_type": "code",
   "execution_count": 150,
   "metadata": {},
   "outputs": [
    {
     "name": "stdout",
     "output_type": "stream",
     "text": [
      "inner\n",
      "2.200254834764204\n"
     ]
    }
   ],
   "source": [
    "print ('inner')\n",
    "print (np.einsum('i,i', A, B))"
   ]
  },
  {
   "cell_type": "code",
   "execution_count": 151,
   "metadata": {},
   "outputs": [
    {
     "name": "stdout",
     "output_type": "stream",
     "text": [
      "outer\n",
      "[[0.24116002 0.31589781 0.01395557 0.00729675 0.10961992 0.00786211\n",
      "  0.2869795  0.19052565 0.25500298 0.06156122]\n",
      " [0.50158791 0.65703477 0.02902614 0.01517648 0.22799809 0.01635238\n",
      "  0.59688768 0.39627364 0.53037983 0.12804098]\n",
      " [0.19610784 0.25688353 0.01134847 0.00593361 0.08914133 0.00639336\n",
      "  0.23336758 0.1549327  0.20736474 0.0500607 ]\n",
      " [0.63640336 0.83363081 0.0368277  0.01925558 0.28927881 0.02074753\n",
      "  0.75731754 0.502783   0.67293389 0.16245549]\n",
      " [0.64383223 0.84336196 0.0372576  0.01948035 0.29265562 0.02098972\n",
      "  0.76615787 0.5086521  0.68078919 0.16435187]\n",
      " [0.06036903 0.07907796 0.00349346 0.00182658 0.0274409  0.0019681\n",
      "  0.07183891 0.04769384 0.0638343  0.01541048]\n",
      " [0.49073283 0.64281559 0.02839797 0.01484804 0.22306389 0.01599849\n",
      "  0.58397017 0.38769771 0.51890165 0.12526999]\n",
      " [0.16335884 0.21398529 0.00945333 0.00494273 0.07425519 0.0053257\n",
      "  0.19439639 0.12905973 0.17273589 0.04170082]\n",
      " [0.22247517 0.29142234 0.0128743  0.0067314  0.10112667 0.00725296\n",
      "  0.26474459 0.1757639  0.23524559 0.05679152]\n",
      " [0.11186837 0.14653744 0.00647365 0.00338479 0.05085006 0.00364705\n",
      "  0.13312293 0.08838029 0.11828979 0.02855678]]\n"
     ]
    }
   ],
   "source": [
    "print ('outer')\n",
    "print (np.einsum('i,j->ij', A, B))"
   ]
  },
  {
   "cell_type": "code",
   "execution_count": 153,
   "metadata": {},
   "outputs": [],
   "source": [
    "phi = np.arange(0, 10*np.pi, 0.1)\n",
    "a = 1\n",
    "x = a*phi*np.cos(phi)\n",
    "y = a*phi*np.sin(phi)\n",
    "dr = (np.diff(x)**2 + np.diff(y)**2)**.5 \n",
    "r = np.zeros_like(x)\n",
    "r[1:] = np.cumsum(dr)    \n",
    "r_int = np.linspace(0, r.max(), 200)\n",
    "x_int = np.interp(r_int, r, x)\n",
    "y_int = np.interp(r_int, r, y)"
   ]
  },
  {
   "cell_type": "code",
   "execution_count": 154,
   "metadata": {},
   "outputs": [
    {
     "name": "stdout",
     "output_type": "stream",
     "text": [
      "[[2. 0. 1. 1.]]\n"
     ]
    }
   ],
   "source": [
    "X = np.asarray([[1.0, 0.0, 3.0, 8.0],\n",
    "                 [2.0, 0.0, 1.0, 1.0],\n",
    "                 [1.5, 2.5, 1.0, 0.0]])\n",
    "n = 4\n",
    "M = np.logical_and.reduce(np.mod(X, 1) == 0, axis=-1)\n",
    "M &= (X.sum(axis=-1) == n)\n",
    "print (X[M])"
   ]
  },
  {
   "cell_type": "code",
   "execution_count": 155,
   "metadata": {},
   "outputs": [
    {
     "name": "stdout",
     "output_type": "stream",
     "text": [
      "[-0.11855638  0.22333939]\n"
     ]
    }
   ],
   "source": [
    "X = np.random.randn(100) # random 1D array\n",
    "N = 1000 # number of bootstrap samples\n",
    "idx = np.random.randint(0, X.size, (N, X.size))\n",
    "means = X[idx].mean(axis=1)\n",
    "confint = np.percentile(means, [2.5, 97.5])\n",
    "print (confint)"
   ]
  },
  {
   "cell_type": "code",
   "execution_count": null,
   "metadata": {},
   "outputs": [],
   "source": []
  }
 ],
 "metadata": {
  "kernelspec": {
   "display_name": "Python 3",
   "language": "python",
   "name": "python3"
  },
  "language_info": {
   "codemirror_mode": {
    "name": "ipython",
    "version": 3
   },
   "file_extension": ".py",
   "mimetype": "text/x-python",
   "name": "python",
   "nbconvert_exporter": "python",
   "pygments_lexer": "ipython3",
   "version": "3.7.1"
  }
 },
 "nbformat": 4,
 "nbformat_minor": 2
}
